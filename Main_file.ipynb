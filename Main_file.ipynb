{
  "nbformat": 4,
  "nbformat_minor": 0,
  "metadata": {
    "colab": {
      "provenance": [],
      "authorship_tag": "ABX9TyNzup9hBwH8NhI6f0Zf3OE4",
      "include_colab_link": true
    },
    "kernelspec": {
      "name": "python3",
      "display_name": "Python 3"
    },
    "language_info": {
      "name": "python"
    }
  },
  "cells": [
    {
      "cell_type": "markdown",
      "metadata": {
        "id": "view-in-github",
        "colab_type": "text"
      },
      "source": [
        "<a href=\"https://colab.research.google.com/github/Py4Econ2023/Solow-Growth-Model/blob/Sami/Main_file.ipynb\" target=\"_parent\"><img src=\"https://colab.research.google.com/assets/colab-badge.svg\" alt=\"Open In Colab\"/></a>"
      ]
    },
    {
      "cell_type": "markdown",
      "source": [
        "**Creating the Solow model class**"
      ],
      "metadata": {
        "id": "DmGPdPuIjDIG"
      }
    },
    {
      "cell_type": "code",
      "execution_count": 3,
      "metadata": {
        "colab": {
          "base_uri": "https://localhost:8080/"
        },
        "id": "WPtnexEsiZt1",
        "outputId": "2aa85f75-ecec-455d-a749-b4fd0d2832ca"
      },
      "outputs": [
        {
          "output_type": "stream",
          "name": "stdout",
          "text": [
            "[1, 1.0946126023224823, 1.182204602307939, 1.262952830996566, 1.3371351404833887, 1.4050914824250962, 1.4671965619704042, 1.5238406246524179, 1.5754160392644394, 1.622308052621677, 1.6648885662630186]\n",
            "2.0627664186560786\n"
          ]
        }
      ],
      "source": [
        "# 1. Create a class called Solow with attributes being the parameters of the Solow growth model (n, s, delta, alpha, g).\n",
        "\n",
        "class Solow:\n",
        "    def __init__(self, n, s, delta, alpha, g):\n",
        "        self.n = n\n",
        "        self.s = s\n",
        "        self.delta = delta\n",
        "        self.alpha = alpha\n",
        "        self.g = g\n",
        "\n",
        "    # 2. Add a method which calculates the RHS of the equation (1), given a value for k_now\n",
        "    def k_next(self, k_now):\n",
        "        return (self.s * k_now**self.alpha + (1 - self.delta) * k_now) / ((1 + self.g)*(1 + self.n))\n",
        "\n",
        "    # 3. Add a method that updates the current value of k_t\n",
        "\n",
        "    # 4. Add a method that generates a sequence of values for k_t, for t periods\n",
        "    def k_sequence(self, k0, t):\n",
        "        k_sequence = [k0]\n",
        "        for i in range(t):\n",
        "            k_sequence.append(self.k_next(k_sequence[i]))\n",
        "        return k_sequence\n",
        "\n",
        "    # 5. Add a method that calculates the steady state\n",
        "    def steady_state_k(self):\n",
        "        return (self.s / (self.g + self.n + self.delta + self.g * self.n))**(1/(1-self.alpha))\n",
        "\n",
        "    # 6. Add a method that computes the value of the aggregate variables from a value of k, A, and L\n",
        "    # (I am assuming Cobb-Douglas production function here)\n",
        "    def K(self, k, A, L):\n",
        "        return k * A * L\n",
        "    def Y(self, k, A, L):\n",
        "        return ((k * A * L)**self.alpha) * ((A*L)**(1-self.alpha))\n",
        "\n",
        "    # 7. Add a method that computes the per worker variables\n",
        "    def y(self, k, A, L):\n",
        "        return (((k * A * L)**self.alpha) * ((A*L)**(1-self.alpha)))/(A*L)\n",
        "\n",
        "    # 8. Add a method that generates a series of per worker variables\n",
        "\n",
        "\n",
        "# Example:\n",
        "model = Solow(n=0.03, s=0.25, delta=0.1, alpha=0.3, g=0.02)\n",
        "print(model.k_sequence(k0=1, t=10))\n",
        "print(model.steady_state_k())\n"
      ]
    },
    {
      "cell_type": "markdown",
      "source": [
        "**9. We now want to use this class for scenario analysis. A scenario is a series of assumptions made on the parameters of the model. We will leave to you to decide which scenarios are interesting to present.**"
      ],
      "metadata": {
        "id": "b6WCGkePjNNU"
      }
    },
    {
      "cell_type": "code",
      "source": [],
      "metadata": {
        "id": "97zkjB53jV35"
      },
      "execution_count": null,
      "outputs": []
    }
  ]
}