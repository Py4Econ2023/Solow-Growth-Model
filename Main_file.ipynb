{
  "nbformat": 4,
  "nbformat_minor": 0,
  "metadata": {
    "colab": {
      "provenance": [],
      "authorship_tag": "ABX9TyNsCbMjfJbya6o1n3sMkXDH",
      "include_colab_link": true
    },
    "kernelspec": {
      "name": "python3",
      "display_name": "Python 3"
    },
    "language_info": {
      "name": "python"
    }
  },
  "cells": [
    {
      "cell_type": "markdown",
      "metadata": {
        "id": "view-in-github",
        "colab_type": "text"
      },
      "source": [
        "<a href=\"https://colab.research.google.com/github/Py4Econ2023/Solow-Growth-Model/blob/Sami/Main_file.ipynb\" target=\"_parent\"><img src=\"https://colab.research.google.com/assets/colab-badge.svg\" alt=\"Open In Colab\"/></a>"
      ]
    },
    {
      "cell_type": "markdown",
      "source": [
        "**Creating the Solow model class**"
      ],
      "metadata": {
        "id": "DmGPdPuIjDIG"
      }
    },
    {
      "cell_type": "code",
      "execution_count": null,
      "metadata": {
        "colab": {
          "base_uri": "https://localhost:8080/"
        },
        "id": "WPtnexEsiZt1",
        "outputId": "daecdaa3-1bdd-4e0e-e818-ed7d3a053939"
      },
      "outputs": [
        {
          "output_type": "stream",
          "name": "stdout",
          "text": [
            "[1, 1.0946126023224823, 1.182204602307939, 1.262952830996566, 1.3371351404833887, 1.4050914824250962, 1.4671965619704042, 1.5238406246524179, 1.5754160392644394, 1.622308052621677, 1.6648885662630186]\n",
            "2.0627664186560786\n",
            "[1.0, 1.0274912523779463, 1.0346128206339187, 1.036437476973223, 1.0369036715485667, 1.037022697620702, 1.0370530811024976, 1.0370608366542335, 1.037062816278104, 1.0370633215804834, 1.03706345055968]\n"
          ]
        }
      ],
      "source": [
        "# 1. Create a class called Solow with attributes being the parameters of the Solow growth model (n, s, delta, alpha, g).\n",
        "\n",
        "class Solow:\n",
        "    def __init__(self, n, s, delta, alpha, g):\n",
        "        self.n = n\n",
        "        self.s = s\n",
        "        self.delta = delta\n",
        "        self.alpha = alpha\n",
        "        self.g = g\n",
        "\n",
        "    # 2. Add a method which calculates the RHS of the equation (1), given a value for k_now\n",
        "    def k_next(self, k_now):\n",
        "        k_next = (self.s * k_now**self.alpha + (1 - self.delta) * k_now) / ((1 + self.g)*(1 + self.n))\n",
        "        return k_next\n",
        "\n",
        "    # 3. Add a method that updates the current value of k_t\n",
        "    def k_update(self, k_now):\n",
        "        k_t = self.k_next(k_now)\n",
        "        return k_t\n",
        "\n",
        "    # 4. Add a method that generates a sequence of values for k_t, for t periods\n",
        "    def k_sequence(self, k0, t):\n",
        "        k_sequence = [k0]\n",
        "        for i in range(t):\n",
        "            k_sequence.append(self.k_next(k_sequence[i]))\n",
        "        return k_sequence\n",
        "\n",
        "    # 5. Add a method that calculates the steady state\n",
        "    def steady_state_k(self):\n",
        "        steady_state_k = (self.s / (self.g + self.n + self.delta + self.g * self.n))**(1/(1-self.alpha))\n",
        "        return steady_state_k\n",
        "        \n",
        "    # 6. Add a method that computes the value of the aggregate variables from a value of k, A, and L\n",
        "    # (I am assuming Cobb-Douglas production function here)\n",
        "    def Aggregates(self, k, A, L):\n",
        "        K = k * A * L\n",
        "        return K\n",
        "    def Y(self, k, A, L):\n",
        "        Y = ((k * A * L)**self.alpha) * ((A*L)**(1-self.alpha))\n",
        "        return Y\n",
        "    def I(self, k, A, L):\n",
        "        I = self.s * ((k * A * L)**self.alpha) * ((A*L)**(1-self.alpha))\n",
        "        return I\n",
        "    def C(self, k, A, L):\n",
        "        C = (1 - self.s) * ((k * A * L)**self.alpha) * ((A*L)**(1-self.alpha))\n",
        "        return C\n",
        "\n",
        "    # 7. Add a method that computes the per worker variables\n",
        "    # Note: assuming per *effective* worker, as in the model recap\n",
        "    def y(self, k, A, L):\n",
        "        y = self.Y(k, A, L) / (A*L)\n",
        "        return y\n",
        "    def i(self, k, A, L):\n",
        "        i = self.s * (self.Y(k, A, L)) / (A*L)\n",
        "        return i\n",
        "    def c(self, k, A, L):\n",
        "        c = (1 - self.s) * (self.Y(k, A, L)) / (A*L)\n",
        "        return c\n",
        "\n",
        "    # 8. Add a method that generates a series of per worker variables\n",
        "    def y_sequence(self, k0, A0, L0, t):\n",
        "        y_sequence = [self.y(k0, A0, L0)]\n",
        "        for i in range(t):\n",
        "            y_sequence.append(self.y(self.k_next(y_sequence[i]), A0*(1+self.g)**(i+1), L0*(1+self.n)**(i+1)))\n",
        "        return y_sequence\n",
        "\n",
        "    def i_sequence(self, k0, A0, L0, t):\n",
        "        i_sequence = [self.i(k0, A0, L0)]\n",
        "        for i in range(t):\n",
        "            i_sequence.append(self.i(self.k_next(i_sequence[i]), A0*(1+self.g)**(i+1), L0*(1+self.n)**(i+1)))\n",
        "        return i_sequence\n",
        "    \n",
        "    def c_sequence(self, k0, A0, L0, t):\n",
        "        c_sequence = [self.c(k0, A0, L0)]\n",
        "        for i in range(t):\n",
        "            c_sequence.append(self.c(self.k_next(c_sequence[i]), A0*(1+self.g)**(i+1), L0*(1+self.n)**(i+1)))\n",
        "        return c_sequence\n",
        "\n",
        "# Example:\n",
        "model = Solow(n=0.03, s=0.25, delta=0.1, alpha=0.3, g=0.02)\n",
        "print(model.k_sequence(k0=1, t=10))\n",
        "print(model.steady_state_k())\n",
        "print(model.y_sequence(k0=1, A0=1, L0=1, t=10))"
      ]
    },
    {
      "cell_type": "markdown",
      "source": [
        "**9. We now want to use this class for scenario analysis. A scenario is a series of assumptions made on the parameters of the model. We will leave to you to decide which scenarios are interesting to present.**\n",
        "\n",
        "*Suggestion*: There are likely fewer than 10^70 atoms in our galaxy, and 10^82 in the observable universe. How long can Solow TFP growth last until we reach incredible implications, e.g., when we'd need to sustain the equivalent of the current world economy per atom?\n",
        "\n",
        "Let current world output be Y0. How long, t, until Y_t ≥ Y0*10^70 or 10^82 for\n",
        "\n",
        "1. an economy with 1% TFP growth...\n",
        "2. an economy with 2% TFP growth...\n",
        "3. an economy with 3% TFP growth...\n",
        "3. an economy with 20% TFP growth..."
      ],
      "metadata": {
        "id": "b6WCGkePjNNU"
      }
    },
    {
      "cell_type": "code",
      "source": [],
      "metadata": {
        "id": "97zkjB53jV35"
      },
      "execution_count": null,
      "outputs": []
    }
  ]
}