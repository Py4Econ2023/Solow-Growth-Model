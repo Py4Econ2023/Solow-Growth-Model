{
 "cells": [
  {
   "cell_type": "code",
   "execution_count": null,
   "metadata": {},
   "outputs": [],
   "source": [
    "class Solow:\n",
    "    \n",
    "    def __init__(self, n, s, d, a, g):\n",
    "        self.n = n\n",
    "        self.s = s\n",
    "        self.d = d\n",
    "        self.a = a\n",
    "        self.g = g\n",
    "        \n",
    "    def next_year_k(self, this_year_k):\n",
    "        self.thisk = this_year_k\n",
    "        self.nextk = ((self.s * (self.thisk ** self.a)) + ((1 - self.d) * self.thisk)) / ((1 + self.g) * (1 + self.n))\n",
    "        return self.nextk\n",
    "    \n",
    "    def update_k(self):\n",
    "        pass\n",
    "    \n",
    "    def k_sequence(self, number_of_periods, original_k):\n",
    "        my_list = [original_k]\n",
    "        for x in range(number_of_periods):\n",
    "            my_list.append(self.next_year_k(this_year_k = my_list[x]))\n",
    "        return my_list\n",
    "    \n",
    "    def steady_state(self):\n",
    "        return (((self.s)/(self.g + self.n + self.d + (self.g * self.n))) ** (1/(1 + self.a)))\n",
    "    \n",
    "    def aggregate(self):\n",
    "        pass\n",
    "    \n",
    "    def per_worker(self):\n",
    "        pass\n",
    "    \n",
    "    def per_worker_series(self):\n",
    "        pass"
   ]
  }
 ],
 "metadata": {
  "kernelspec": {
   "display_name": "Python 3",
   "language": "python",
   "name": "python3"
  },
  "language_info": {
   "codemirror_mode": {
    "name": "ipython",
    "version": 3
   },
   "file_extension": ".py",
   "mimetype": "text/x-python",
   "name": "python",
   "nbconvert_exporter": "python",
   "pygments_lexer": "ipython3",
   "version": "3.8.5"
  }
 },
 "nbformat": 4,
 "nbformat_minor": 4
}
