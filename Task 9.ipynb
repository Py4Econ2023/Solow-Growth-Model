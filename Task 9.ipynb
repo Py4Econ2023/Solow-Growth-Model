{
 "cells": [
  {
   "cell_type": "code",
   "execution_count": null,
   "id": "0777e926",
   "metadata": {},
   "outputs": [],
   "source": [
    "# 1.Create a class 'Solow' with attributes being the parameters of the model (n, s, 𝛿, 𝛼, g);\n",
    "class Solow:\n",
    "    def __init__(self, n, s, 𝛿, 𝛼, g):\n",
    "        self.n, self.s, self.𝛿, self.𝛼, self.g = n, s, 𝛿, 𝛼, g\n",
    "        \n",
    "    # 2. Add a method which calculates the RHS of the equation (1), given a value for  𝑘𝑡    \n",
    "    def calc_next_k(self,k_t):\n",
    "        return ((self.s*(k_t**self.𝛼) + (1-self.𝛿)*k_t)/((1+self.g)*(1+self.n)))\n",
    "    \n",
    "    # 3.Add a method that updates the current value of k_t\n",
    "    def update_k_t(self, k_t):\n",
    "        k_t = self.calc_next_k(k_t)\n",
    "        return k_t\n",
    "    # 4.Add a method that generates a sequence of values for k_t, for t periods\n",
    "    def gen_k_sequence(self, k_t, t):\n",
    "        k_sequence = [k_t]\n",
    "        for index in range(t):\n",
    "            k_sequence.append(self.calc_next_k(k_sequence[index]))\n",
    "        return k_sequence\n",
    "    \n",
    "    # 5.Add a method that calculates the steady state\n",
    "    def calc_steady_state(self):\n",
    "        return ((self.s)/(self.g + self.n + self.δ + self.g * self.n)) ** (1 / (1 - self.α))   \n",
    "    \n",
    "    # 6. Add a method that computes the value of the aggregate variables from a value of  𝑘, 𝐴, and 𝐿\n",
    "    def calc_aggregate(self, k_t, A_t, L_t):\n",
    "        agg_var = {}\n",
    "        K_t = k_t * A_t * L_t\n",
    "        Y_t = ((k_t * A_t * L_t)**(self.𝛼) * (A_t * L_t)**(1-self.𝛼))\n",
    "        I_t = Y_t * self.s\n",
    "        C_t = Y_t * (1-self.s)\n",
    "        agg_var['K'], agg_var['Y'], agg_var['I'], agg_var['C'] = K_t, Y_t, I_t, C_t\n",
    "        return agg_var \n",
    "    \n",
    "    # 7. Add a method that computes the per worker variables.\n",
    "    def calc_per_worker(self, k_t, A_t, L_t):\n",
    "        agg_var = self.calc_aggregate(k_t, A_t, L_t)\n",
    "        denominator = A_t*L_t\n",
    "        pw_var = {} #per-worker variables\n",
    "        y_t = agg_var[\"Y\"]/denominator #output per efficient worker\n",
    "        c_t = agg_var[\"C\"]/denominator #consumption per efficient worker\n",
    "        i_t = agg_var[\"I\"]/denominator #investment per efficient worker\n",
    "        \n",
    "        pw_var['k'], pw_var['y'], pw_var['i'], pw_var['c'] = k_t,y_t,i_t,c_t\n",
    "\n",
    "        return pw_var\n",
    "\n",
    "    # 8. Add a method that generates a series of per worker variables¶.\n",
    "    def gen_per_worker_seq(self, k_t, A_t, L_t, t):\n",
    "        pw_sequence = [] #k, y, i, c\n",
    "        for index in range(t):\n",
    "            pw_var = self.calc_per_worker(k_t, A_t, L_t)\n",
    "            pw_sequence.append(pw_var) #entry starts from period 0\n",
    "            #update\n",
    "            k_t = self.calc_next_k(k_t)\n",
    "            A_t = (1+self.g)*A_t\n",
    "            L_t = (1+self.n)*L_t\n",
    "        \n",
    "        return pw_sequence\n",
    "    \n",
    "    #For step 9, produce a dictionary of 4 lists \n",
    "    def gen_per_worker_seq2(self, k_t, A_t, L_t, t):\n",
    "        pw_sequence = {'k':[], 'y':[], 'i':[], 'c':[]}\n",
    "        keys = list(pw_sequence.keys())\n",
    "        \n",
    "        for index in range(t):\n",
    "            pw_var = self.calc_per_worker(k_t, A_t, L_t)\n",
    "            for k in keys:\n",
    "                pw_sequence[k].append(pw_var[k])\n",
    "            \n",
    "            #update\n",
    "            k_t = self.calc_next_k(k_t)\n",
    "            A_t = (1+self.g)*A_t\n",
    "            L_t = (1+self.n)*L_t\n",
    "        \n",
    "        return pw_sequence"
   ]
  },
  {
   "cell_type": "code",
   "execution_count": null,
   "id": "5b5cc234",
   "metadata": {},
   "outputs": [],
   "source": [
    "#Instance\n",
    "economy = Solow(n=0.03, s =0.25 , 𝛿 =0.1 , 𝛼 =0.3 , g=0.02)\n",
    "time = 500"
   ]
  },
  {
   "cell_type": "code",
   "execution_count": null,
   "id": "7c2d6fbd",
   "metadata": {},
   "outputs": [],
   "source": [
    "economy.calc_steady_state()"
   ]
  },
  {
   "cell_type": "code",
   "execution_count": null,
   "id": "702c01d5",
   "metadata": {},
   "outputs": [],
   "source": [
    "seq1 = economy.gen_per_worker_seq(k_t=1, A_t=1, L_t=100, t=time)"
   ]
  },
  {
   "cell_type": "code",
   "execution_count": null,
   "id": "c72fcb21",
   "metadata": {},
   "outputs": [],
   "source": [
    "seq2 = economy.gen_per_worker_seq2(k_t = 1, A_t = 1, L_t = 100, t = time)"
   ]
  },
  {
   "cell_type": "markdown",
   "id": "5d413290",
   "metadata": {},
   "source": [
    "Task 9: Scenario Analysis:\n",
    "\n",
    "A: labour-augmenting technological progress: it scales up labour input N\n",
    "g: technology growth rate. Also the growth rate for k and y\n",
    "\n",
    "2 possible scenarios: \n",
    "1) Same A, different g —> different steady states; closed economy, no communication\n",
    "2) Different A, same g —> open economy, copy at no costs; convergence \n"
   ]
  },
  {
   "cell_type": "code",
   "execution_count": null,
   "id": "5c026fd0",
   "metadata": {},
   "outputs": [],
   "source": [
    "import matplotlib.pyplot as plt\n",
    "\n",
    "economy1 = Solow(n=0.03, s =0.25 , 𝛿 =0.1 , 𝛼 =0.3 , g=0.02)\n",
    "economy2 = Solow(n=0.03, s =0.25 , 𝛿 =0.1 , 𝛼 =0.3 , g=0.01)\n",
    "time = 100\n",
    "\n",
    "case1 = economy1.gen_per_worker_seq2(k_t = 1, A_t = 100, L_t = 100, t = time)\n",
    "case2 = economy2.gen_per_worker_seq2(k_t = 1, A_t = 100, L_t = 100, t = time)\n",
    "case3 = economy1.gen_per_worker_seq2(k_t = 1, A_t = 200, L_t = 100, t = time)\n",
    "\n",
    "\n",
    "x_var = list(range(time))\n",
    "\n",
    "y_1 = case1['y']\n",
    "y_2 = case2['y']\n",
    "y_3 = case3['y']\n",
    "\n",
    "\n",
    "plt.plot(x_var, y_1, label = 'g = 2%')\n",
    "plt.plot(x_var, y_2, label = 'g = 1%')\n",
    "plt.title('Same A0, Different g')\n",
    "plt.xlabel(\"Time\")\n",
    "plt.ylabel(\"Output per efficient worker\")\n",
    "plt.legend()\n",
    "plt.show()\n",
    "\n",
    "plt.plot(x_var, y_1, label = 'A0 = 1')\n",
    "plt.plot(x_var, y_3, label = 'A0 = 2')\n",
    "plt.title('Same g, Different A0')\n",
    "plt.xlabel(\"Time\")\n",
    "plt.ylabel(\"Output per efficient worker\")\n",
    "plt.legend()\n",
    "plt.show()"
   ]
  }
 ],
 "metadata": {
  "kernelspec": {
   "display_name": "Python 3 (ipykernel)",
   "language": "python",
   "name": "python3"
  },
  "language_info": {
   "codemirror_mode": {
    "name": "ipython",
    "version": 3
   },
   "file_extension": ".py",
   "mimetype": "text/x-python",
   "name": "python",
   "nbconvert_exporter": "python",
   "pygments_lexer": "ipython3",
   "version": "3.9.13"
  }
 },
 "nbformat": 4,
 "nbformat_minor": 5
}
