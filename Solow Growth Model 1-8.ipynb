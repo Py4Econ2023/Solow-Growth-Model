{
 "cells": [
  {
   "cell_type": "code",
   "execution_count": 6,
   "metadata": {},
   "outputs": [],
   "source": [
    "#1 - Create a class called Solow with attributes being the parameters of the Solow growth model (n, s, 𝛿, 𝛼, g)\n",
    "\n",
    "class Solow_Growth_Model:\n",
    "    def __init__(self, n,  s, alpha, beta, g):\n",
    "        self.n = n\n",
    "        self.s = s\n",
    "        self.alpha = alpha\n",
    "        self.delta = delta\n",
    "        self.g = g\n",
    "        \n",
    "    #2 - Add a method which calculates the RHS of the equation (1), given a value for 𝑘𝑡\n",
    "    \n",
    "    def kt_plus_one(self, kt):\n",
    "        return ((self.s * kt**self.alpha) + (1 - self.delta) * kt) / ((1 + self.g) * (1 + self.n))\n",
    "    \n",
    "    #3 - Add a method that updates the current value of 𝑘𝑡\n",
    "    \n",
    "    def update_kt(self):\n",
    "        self.kt = kt_plus_one()\n",
    "        \n",
    "    #4 -  Add a method that generates a sequence of values for 𝑘𝑡, for 𝑡 periods\n",
    "    \n",
    "    def kt_sequence(self, k0, t):\n",
    "        kt_sequence = [k0]\n",
    "        for i in range(t):\n",
    "            kt_sequence.append(kt_plus_one(kt_sequence[i]))\n",
    "        return kt_sequence\n",
    "    \n",
    "    #5 - Add a method that calculates the steady state\n",
    "    \n",
    "    def steady_state(self):\n",
    "        return (self.s / (self.g + self.n + self.delta + (self.g * self.n)) ** (1 / (1 - self.alpha)))\n",
    "    \n",
    "    #6 - Add a method that computes the value of the aggregate variables from a value of 𝑘, 𝐴, and 𝐿\n",
    "    \n",
    "    def aggregate(self, k, A, L):\n",
    "        aggregate_k = (k * A * L)\n",
    "        aggregare_y = k ** self.alpha * (A * L) ** (1 - self.alpha)\n",
    "        return aggregate_k, aggregate_y\n",
    "    \n",
    "    #7 - Add a method that computes the per worker variables\n",
    "    \n",
    "    def per_worker(self, Y, k, A, L):\n",
    "        per_worker_y = Y / (A * L)\n",
    "        per_worker_k =  k/ (A * L)\n",
    "        return per_worker_y, per_worker_k\n",
    "    \n",
    "    \n",
    "    #8 - Add a method that generates a series of per worker variables\n",
    "   \n",
    "    def per_worker_series(self, t, k0, L0, A0):\n",
    "        aggregate_variables = self.aggregate(t, k0, L0, A0)\n",
    "        \n",
    "        kt_list = aggregate_variables[:, 0]\n",
    "        \n",
    "    "
   ]
  }
 ],
 "metadata": {
  "kernelspec": {
   "display_name": "Python 3",
   "language": "python",
   "name": "python3"
  },
  "language_info": {
   "codemirror_mode": {
    "name": "ipython",
    "version": 3
   },
   "file_extension": ".py",
   "mimetype": "text/x-python",
   "name": "python",
   "nbconvert_exporter": "python",
   "pygments_lexer": "ipython3",
   "version": "3.8.5"
  }
 },
 "nbformat": 4,
 "nbformat_minor": 4
}
