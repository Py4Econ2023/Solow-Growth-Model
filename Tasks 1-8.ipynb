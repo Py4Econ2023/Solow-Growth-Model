{
 "cells": [
  {
   "cell_type": "code",
   "execution_count": null,
   "id": "1c3a40c1",
   "metadata": {},
   "outputs": [],
   "source": [
    "# 1.Create a class called Solow with attributes being the parameters of the Solow growth model (n, s, δ, α, g)\n",
    "class Solow:\n",
    "    def __init__(self, n, s, δ, α, g):\n",
    "        self.n = n\n",
    "        self.s = s\n",
    "        self.δ = δ\n",
    "        self.α = α\n",
    "        self.g = g\n",
    "        \n",
    "    # 2.Add a method which calculates the RHS of the equation (1), given a value for k_t\n",
    "    def k_t1(self, k_t):\n",
    "        return (self.s * k_t ** self.α + (1 - self.δ) * k_t)/(1 + self.g) * (1 + self.n)\n",
    "    \n",
    "    # 3.Add a method that updates the current value of k_t\n",
    "    def update_k_t(self, k_t):\n",
    "        k_t = self.k_t1(k_t)\n",
    "        return k_t\n",
    "    \n",
    "    # 4.Add a method that generates a sequence of values for k_t, for t periods\n",
    "    def k_t_sequence(self, k0, t):\n",
    "        k_t_sequence = [k0]\n",
    "        for i in range(t):\n",
    "            k_t_sequence.append(self.k_t1(k_t_sequence[i]))\n",
    "        return k_t_sequence\n",
    "    \n",
    "    # 5.Add a method that calculates the steady state\n",
    "    def k_ss(self):\n",
    "        return ((self.s)/(self.g + self.n + self.δ + self.g * self.n)) ** (1 / (1 - self.α))\n",
    "    \n",
    "    # 6.Add a method that computes the value of the aggregate variables from a value of k, A, and L (consolidate into 1 method that computes aggregate variables; remember C & I)\n",
    "    def Agg_var(self, k_t, A_t, L_t):\n",
    "        K_t = k_t * A_t * L_t\n",
    "        Y_t = ((k_t * A_t * L_t) ** self.α) * ((A_t * L_t) ** (1 - self.α))\n",
    "        C_t = ((k_t * A_t * L_t) ** self.α) * ((A_t * L_t) ** (1 - self.α)) * (1 - self.s)\n",
    "        I_t = ((k_t * A_t * L_t) ** self.α) * ((A_t * L_t) ** (1 - self.α)) * self.s\n",
    "        return [K_t, Y_t, C_t, I_t]\n",
    "    \n",
    "    # 7.Add a method that computes the per worker variables (remember c & i)\n",
    "    def per_worker_var(self, k_t, A_t, L_t):\n",
    "        y_t = ((k_t * A_t * L_t) ** self.α) * ((A_t * L_t) ** (1 - self.α)) / (A_t * L_t)\n",
    "        c_t = ((k_t * A_t * L_t) ** self.α) * ((A_t * L_t) ** (1 - self.α)) * (1 - self.s) / (A_t * L_t)\n",
    "        i_t = ((k_t * A_t * L_t) ** self.α) * ((A_t * L_t) ** (1 - self.α)) * self.s / (A_t * L_t)\n",
    "        return [y_t, c_t, i_t]\n",
    "    \n",
    "    # 8.Add a method that generates a series of per worker variables\n",
    "    # For y:\n",
    "    def get_y(self, k_t, A_t, L_t):\n",
    "        y_t = ((k_t * A_t * L_t) ** self.α) * ((A_t * L_t) ** (1 - self.α)) / (A_t * L_t)\n",
    "        return y_t\n",
    "    def y_series(self, k0, A0, L0, t):\n",
    "        y_series = [self.get_y(k0, A0, L0)]\n",
    "        for i in range(t):\n",
    "            y_series.append(self.get_y(self.k_t1(y_series[i]), A0 * (1 + self.g) ** (i + 1), L0 * (1 + self.n) ** (i + 1)))\n",
    "        return y_series\n",
    "    \n",
    "    # For c:\n",
    "    def get_c(self, k_t, A_t, L_t):\n",
    "        c_t = ((k_t * A_t * L_t) ** self.α) * ((A_t * L_t) ** (1 - self.α)) * (1 - self.s) / (A_t * L_t)\n",
    "        return c_t\n",
    "    def c_series(self, k0, A0, L0, t):\n",
    "        c_series = [self.get_c(k0, A0, L0)]\n",
    "        for i in range(t):\n",
    "            c_series.append(self.get_c(self.k_t1(c_series[i]), A0 * (1 + self.g) ** (i + 1), L0 * (1 + self.n) ** (i + 1)))\n",
    "        return c_series\n",
    "    \n",
    "    # For i:\n",
    "    def get_i(self, k_t, A_t, L_t):\n",
    "        i_t = ((k_t * A_t * L_t) ** self.α) * ((A_t * L_t) ** (1 - self.α)) * self.s / (A_t * L_t)\n",
    "        return i_t\n",
    "    def i_series(self, k0, A0, L0, t):\n",
    "        i_series = [self.get_i(k0, A0, L0)]\n",
    "        for i in range(t):\n",
    "            i_series.append(self.get_i(self.k_t1(i_series[i]), A0 * (1 + self.g) ** (i + 1), L0 * (1 + self.n) ** (i + 1)))\n",
    "        return i_series \n",
    "\n",
    "\n"
   ]
  },
  {
   "cell_type": "code",
   "execution_count": null,
   "id": "d22a2ab6",
   "metadata": {},
   "outputs": [],
   "source": [
    "# Example:\n",
    "example = Solow (n = 0.3, s = 0.3, δ = 0.3, α = 0.3, g = 0.3)"
   ]
  },
  {
   "cell_type": "code",
   "execution_count": null,
   "id": "9ec2f6cc",
   "metadata": {},
   "outputs": [],
   "source": [
    "print(example.k_t1(k_t = 21))"
   ]
  },
  {
   "cell_type": "code",
   "execution_count": null,
   "id": "5839c641",
   "metadata": {},
   "outputs": [],
   "source": [
    "print(example.update_k_t(k_t = 25))"
   ]
  },
  {
   "cell_type": "code",
   "execution_count": null,
   "id": "df6d97c6",
   "metadata": {},
   "outputs": [],
   "source": [
    "print(example.k_t_sequence(k0 = 11.111, t = 5))"
   ]
  },
  {
   "cell_type": "code",
   "execution_count": null,
   "id": "3bd2bb82",
   "metadata": {},
   "outputs": [],
   "source": [
    "print(example.k_ss())"
   ]
  },
  {
   "cell_type": "code",
   "execution_count": null,
   "id": "d8866029",
   "metadata": {},
   "outputs": [],
   "source": [
    "print(example.Agg_var(k_t = 20, A_t = 0.3, L_t = 500))"
   ]
  },
  {
   "cell_type": "code",
   "execution_count": null,
   "id": "6a090625",
   "metadata": {},
   "outputs": [],
   "source": [
    "print(example.per_worker_var(k_t = 20, A_t = 0.3, L_t = 500))"
   ]
  },
  {
   "cell_type": "code",
   "execution_count": null,
   "id": "d796267d",
   "metadata": {},
   "outputs": [],
   "source": [
    "print(example.y_series(k0 = 29, A0 = 0.2, L0 = 302, t = 2))"
   ]
  },
  {
   "cell_type": "code",
   "execution_count": null,
   "id": "45cbe0d0",
   "metadata": {},
   "outputs": [],
   "source": [
    "print(example.c_series(k0 = 70, A0 = 0.45, L0 = 333, t = 3))"
   ]
  },
  {
   "cell_type": "code",
   "execution_count": null,
   "id": "1b1efd0e",
   "metadata": {},
   "outputs": [],
   "source": [
    "print(example.i_series(k0 = 65, A0 = 0.22, L0 = 468, t = 10))"
   ]
  }
 ],
 "metadata": {
  "kernelspec": {
   "display_name": "Python 3 (ipykernel)",
   "language": "python",
   "name": "python3"
  },
  "language_info": {
   "codemirror_mode": {
    "name": "ipython",
    "version": 3
   },
   "file_extension": ".py",
   "mimetype": "text/x-python",
   "name": "python",
   "nbconvert_exporter": "python",
   "pygments_lexer": "ipython3",
   "version": "3.8.5"
  }
 },
 "nbformat": 4,
 "nbformat_minor": 5
}
