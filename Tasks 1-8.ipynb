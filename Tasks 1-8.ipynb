{
 "cells": [
  {
   "cell_type": "code",
   "execution_count": null,
   "id": "1c3a40c1",
   "metadata": {},
   "outputs": [],
   "source": [
    "# 1.Create a class called Solow with attributes being the parameters of the Solow growth model (n, s, δ, α, g)\n",
    "class Solow:\n",
    "    def __init__(self, n, s, δ, α, g):\n",
    "        self.n = n\n",
    "        self.s = s\n",
    "        self.δ = δ\n",
    "        self.α = α\n",
    "        self.g = g\n",
    "        \n",
    "    # 2.Add a method which calculates the RHS of the equation (1), given a value for k_t\n",
    "    def k_t1(self, k_t):\n",
    "        return (self.s * k_t ** self.α + (1 - self.δ) * k_t)/(1 + self.g) * (1 + self.n)\n",
    "    \n",
    "    # 3.Add a method that updates the current value of k_t\n",
    "    def update_k_t(self, k_t):\n",
    "        k_t = self.k_t1(k_t)\n",
    "    \n",
    "    # 4.Add a method that generates a sequence of values for k_t, for t periods\n",
    "    def k_sequence(self, k0, t):\n",
    "        k_sequence = [k0]\n",
    "        for i in range(t):\n",
    "            k_sequence.append(self.k_t1(k_sequence[i]))\n",
    "        return k_sequence\n",
    "    \n",
    "    # 5.Add a method that calculates the steady state\n",
    "    def k_ss(self):\n",
    "        return ((self.s)/(self.g + self.n + self.δ + self.g * self.n)) ** (1 / (1 - self.α))\n",
    "    \n",
    "    # 6.Add a method that computes the value of the aggregate variables from a value of k, A, and L (consolidate into 1 method that computes aggregate variables; remember C & I)\n",
    "    def Agg_var(self, k_t, A_t, L_t):\n",
    "        K_t = k_t * A_t * L_t\n",
    "        Y_t = (self.K_t ** self.α) * ((A_t * L_t) ** (1 - self.α))\n",
    "        C_t = (1 - self.s) * Y_t\n",
    "        I_t = self.s * Y_t\n",
    "    \n",
    "    # 7.Add a method that computes the per worker variables (remember c & i)\n",
    "    def per_worker_var(self, k_t, A_t, L_t):\n",
    "        y_t = ((k_t * A_t * L_t) ** self.α) * ((A_t * L_t) ** (1 - self.α)) / (A_t * L_t)\n",
    "        c_t = C_t / L_t\n",
    "        I_t = I_t / L_t\n",
    "    \n",
    "    # 8.Add a method that generates a series of per worker variables\n",
    "    import pandas as pd\n",
    "    import numpy as np\n",
    "    per_worker_variables = np.array(['y_t', 'k_t'])\n",
    "    p_w_v_series = pd.Series(per_worker_variables)\n",
    "\n",
    "# 9.Scenario analysis (aging population): what will happen to GDP per capita to a country that has no population growth, versus a country in which population grows at 2% per year?"
   ]
  }
 ],
 "metadata": {
  "kernelspec": {
   "display_name": "Python 3 (ipykernel)",
   "language": "python",
   "name": "python3"
  },
  "language_info": {
   "codemirror_mode": {
    "name": "ipython",
    "version": 3
   },
   "file_extension": ".py",
   "mimetype": "text/x-python",
   "name": "python",
   "nbconvert_exporter": "python",
   "pygments_lexer": "ipython3",
   "version": "3.8.5"
  }
 },
 "nbformat": 4,
 "nbformat_minor": 5
}
