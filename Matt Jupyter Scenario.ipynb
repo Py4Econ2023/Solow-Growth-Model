{
 "cells": [
  {
   "cell_type": "code",
   "execution_count": 1,
   "metadata": {},
   "outputs": [],
   "source": [
    "import matplotlib.pyplot as plt\n",
    "\n",
    "# 1.Create a class 'Solow' with attributes being the parameters of the model (n, s, 𝛿, 𝛼, g);(Cobb_Douglas function)\n",
    "class Solow:\n",
    "    def __init__(self, n, s, 𝛿, 𝛼, g):\n",
    "        self.n, self.s, self.𝛿, self.𝛼, self.g = n, s, 𝛿, 𝛼, g\n",
    "        \n",
    "    # 2. Add a method which calculates the RHS of the equation (1), given a value for  𝑘𝑡    \n",
    "    def calc_next_k(self,k_t):\n",
    "        return ((self.s*(k_t**self.𝛼) + (1-self.𝛿)*k_t)/((1+self.g)*(1+self.n)))\n",
    "    \n",
    "    # 3.Add a method that updates the current value of k_t\n",
    "    def update_k_t(self, k_t):\n",
    "        k_t = self.calc_next_k(k_t)\n",
    "        return k_t\n",
    "    # 4.Add a method that generates a sequence of values for k_t, for t periods\n",
    "    def gen_k_sequence(self, k_t, t):\n",
    "        k_sequence = [k_t]\n",
    "        for index in range(t):\n",
    "            k_sequence.append(self.calc_next_k(k_sequence[index]))\n",
    "        return k_sequence\n",
    "    \n",
    "    # 5.Add a method that calculates the steady state\n",
    "    def calc_steady_state(self):\n",
    "        return ((self.s)/(self.g + self.n + self.δ + self.g * self.n)) ** (1 / (1 - self.α))   \n",
    "    \n",
    "    # 6. Add a method that computes the value of the aggregate variables from a value of  𝑘, 𝐴, and 𝐿\n",
    "    def calc_aggregate(self, k_t, A_t, L_t):\n",
    "        agg_var = {}\n",
    "        K_t = k_t * A_t * L_t\n",
    "        Y_t = ((k_t * A_t * L_t)**(self.𝛼) * (A_t * L_t)**(1-self.𝛼))\n",
    "        I_t = Y_t * self.s\n",
    "        C_t = Y_t * (1-self.s)\n",
    "        agg_var['K'], agg_var['Y'], agg_var['I'], agg_var['C'] = K_t, Y_t, I_t, C_t\n",
    "        return agg_var \n",
    "    \n",
    "    # 7. Add a method that computes the per worker variables.\n",
    "    def calc_per_worker(self, k_t, A_t, L_t):\n",
    "        agg_var = self.calc_aggregate(k_t, A_t, L_t)\n",
    "        denominator = A_t*L_t\n",
    "        pw_var = {} #per-worker variables\n",
    "        y_t = agg_var[\"Y\"]/denominator #output per efficient worker\n",
    "        c_t = agg_var[\"C\"]/denominator #consumption per efficient worker\n",
    "        i_t = agg_var[\"I\"]/denominator #investment per efficient worker\n",
    "        \n",
    "        pw_var['k'], pw_var['y'], pw_var['i'], pw_var['c'] = k_t,y_t,i_t,c_t\n",
    "\n",
    "        return pw_var\n",
    "\n",
    "    # 8. Add a method that generates a series of per worker variables¶.\n",
    "    def gen_per_worker_seq(self, k_t, A_t, L_t, t):\n",
    "        pw_sequence = [] #k, y, i, c\n",
    "        for index in range(t):\n",
    "            pw_var = self.calc_per_worker(k_t, A_t, L_t)\n",
    "            pw_sequence.append(pw_var) #entry starts from period 0\n",
    "            #update\n",
    "            k_t = self.calc_next_k(k_t)\n",
    "            A_t = (1+self.g)*A_t\n",
    "            L_t = (1+self.n)*L_t\n",
    "        \n",
    "        return pw_sequence"
   ]
  },
  {
   "cell_type": "code",
   "execution_count": 2,
   "metadata": {},
   "outputs": [
    {
     "data": {
      "image/png": "[encoded data removed]",
      "text/plain": [
       "<Figure size 432x288 with 1 Axes>"
      ]
     },
     "metadata": {
      "needs_background": "light"
     },
     "output_type": "display_data"
    }
   ],
   "source": [
    "# Set values of initial Solow parameters at average values - sourced from UN, ONS, ECB, Data Reportal\n",
    "\n",
    "k_example = Solow (n = 0.011, s = 0.09, δ = 0.046, α = 0.40, g = 0.04)\n",
    "\n",
    "# The steady state of k for a country with these parameters = 0.8760, so let us investigate the path here\n",
    "# for two identical countries, only differing in starting endowments of capital. Let k0_1 = 0.2 and k0_2 = 0.4\n",
    "\n",
    "k_sequence_1 = k_example.gen_k_sequence(k_t = 0.2, t = 300)\n",
    "k_sequence_2 = k_example.gen_k_sequence(k_t = 0.4, t = 300)\n",
    "\n",
    "\n",
    "\n",
    "y_sequence_1 = k_example.gen_per_worker_seq(k_t = 0.2, A_t = 100, L_t = 100, t = 301)\n",
    "y_sequence_1a = [year['y'] for year in y_sequence_1]\n",
    "                                  \n",
    "y_sequence_2 = k_example.gen_per_worker_seq(k_t = 0.4, A_t = 100, L_t = 100, t = 301)\n",
    "y_sequence_2a = [year['y'] for year in y_sequence_1]\n",
    "\n",
    "plt.plot(k_sequence_1, y_sequence_1a)\n",
    "plt.plot(k_sequence_2, y_sequence_2a)\n",
    "plt.show()\n",
    "\n",
    "                                       \n"
   ]
  },
  {
   "cell_type": "code",
   "execution_count": null,
   "metadata": {},
   "outputs": [],
   "source": []
  },
  {
   "cell_type": "code",
   "execution_count": null,
   "metadata": {},
   "outputs": [],
   "source": []
  },
  {
   "cell_type": "code",
   "execution_count": null,
   "metadata": {},
   "outputs": [],
   "source": []
  },
  {
   "cell_type": "code",
   "execution_count": null,
   "metadata": {},
   "outputs": [],
   "source": []
  },
  {
   "cell_type": "code",
   "execution_count": null,
   "metadata": {},
   "outputs": [],
   "source": []
  },
  {
   "cell_type": "code",
   "execution_count": null,
   "metadata": {},
   "outputs": [],
   "source": []
  },
  {
   "cell_type": "code",
   "execution_count": null,
   "metadata": {},
   "outputs": [],
   "source": []
  },
  {
   "cell_type": "markdown",
   "metadata": {},
   "source": []
  }
 ],
 "metadata": {
  "kernelspec": {
   "display_name": "Python 3",
   "language": "python",
   "name": "python3"
  },
  "language_info": {
   "codemirror_mode": {
    "name": "ipython",
    "version": 3
   },
   "file_extension": ".py",
   "mimetype": "text/x-python",
   "name": "python",
   "nbconvert_exporter": "python",
   "pygments_lexer": "ipython3",
   "version": "3.8.5"
  }
 },
 "nbformat": 4,
 "nbformat_minor": 5
}
