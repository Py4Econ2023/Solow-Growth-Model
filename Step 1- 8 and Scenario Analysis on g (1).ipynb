{
 "cells": [
  {
   "cell_type": "code",
   "execution_count": 1,
   "metadata": {},
   "outputs": [],
   "source": [
    "# 1.Create a class 'Solow' with attributes being the parameters of the model (n, s, 𝛿, 𝛼, g);(Cobb_Douglas function)\n",
    "class Solow:\n",
    "    def __init__(self, n, s, 𝛿, 𝛼, g):\n",
    "        self.n, self.s, self.𝛿, self.𝛼, self.g = n, s, 𝛿, 𝛼, g\n",
    "        \n",
    "    # 2. Add a method which calculates the RHS of the equation (1), given a value for  𝑘𝑡    \n",
    "    def calc_next_k(self,k_t):\n",
    "        return ((self.s*(k_t**self.𝛼) + (1-self.𝛿)*k_t)/((1+self.g)*(1+self.n)))\n",
    "    \n",
    "    # 3.Add a method that updates the current value of k_t\n",
    "    def update_k_t(self, k_t):\n",
    "        k_t = self.calc_next_k(k_t)\n",
    "        return k_t\n",
    "    # 4.Add a method that generates a sequence of values for k_t, for t periods\n",
    "    def gen_k_sequence(self, k_t, t):\n",
    "        k_sequence = [k_t]\n",
    "        for index in range(t):\n",
    "            k_sequence.append(self.calc_next_k(k_sequence[index]))\n",
    "        return k_sequence\n",
    "    \n",
    "    # 5.Add a method that calculates the steady state\n",
    "    def calc_steady_state(self):\n",
    "        return ((self.s)/(self.g + self.n + self.δ + self.g * self.n)) ** (1 / (1 - self.α))   \n",
    "    \n",
    "    # 6. Add a method that computes the value of the aggregate variables from a value of  𝑘, 𝐴, and 𝐿\n",
    "    def calc_aggregate(self, k_t, A_t, L_t):\n",
    "        agg_var = {}\n",
    "        K_t = k_t * A_t * L_t\n",
    "        Y_t = ((k_t * A_t * L_t)**(self.𝛼) * (A_t * L_t)**(1-self.𝛼))\n",
    "        I_t = Y_t * self.s\n",
    "        C_t = Y_t * (1-self.s)\n",
    "        agg_var['K'], agg_var['Y'], agg_var['I'], agg_var['C'] = K_t, Y_t, I_t, C_t\n",
    "        return agg_var \n",
    "    \n",
    "    # 7. Add a method that computes the per worker variables.\n",
    "    def calc_per_worker(self, k_t, A_t, L_t):\n",
    "        agg_var = self.calc_aggregate(k_t, A_t, L_t)\n",
    "        denominator = A_t*L_t\n",
    "        pw_var = {} #per-worker variables\n",
    "        y_t = agg_var[\"Y\"]/denominator #output per efficient worker\n",
    "        c_t = agg_var[\"C\"]/denominator #consumption per efficient worker\n",
    "        i_t = agg_var[\"I\"]/denominator #investment per efficient worker\n",
    "        \n",
    "        pw_var['k'], pw_var['y'], pw_var['i'], pw_var['c'] = k_t,y_t,i_t,c_t\n",
    "\n",
    "        return pw_var\n",
    "\n",
    "    # 8. Add a method that generates a series of per worker variables.\n",
    "    def gen_per_worker_seq(self, k_t, A_t, L_t, t):\n",
    "        pw_sequence = [] #k, y, i, c\n",
    "        for index in range(t):\n",
    "            pw_var = self.calc_per_worker(k_t, A_t, L_t)\n",
    "            pw_sequence.append(pw_var) #entry starts from period 0\n",
    "            #update\n",
    "            k_t = self.calc_next_k(k_t)\n",
    "            A_t = (1+self.g)*A_t\n",
    "            L_t = (1+self.n)*L_t\n",
    "        \n",
    "        return pw_sequence"
   ]
  },
  {
   "cell_type": "code",
   "execution_count": 2,
   "metadata": {},
   "outputs": [],
   "source": [
    "example = Solow (n = 0.03, s = 0.3, δ = 0.01, α = 0.3, g = 0.02)"
   ]
  },
  {
   "cell_type": "code",
   "execution_count": 3,
   "metadata": {},
   "outputs": [
    {
     "data": {
      "text/plain": [
       "3.223983201118192"
      ]
     },
     "execution_count": 3,
     "metadata": {},
     "output_type": "execute_result"
    }
   ],
   "source": [
    "example.calc_next_k(k_t=3)"
   ]
  },
  {
   "cell_type": "code",
   "execution_count": 4,
   "metadata": {},
   "outputs": [
    {
     "data": {
      "text/plain": [
       "3.223983201118192"
      ]
     },
     "execution_count": 4,
     "metadata": {},
     "output_type": "execute_result"
    }
   ],
   "source": [
    "example.update_k_t(k_t=3)"
   ]
  },
  {
   "cell_type": "code",
   "execution_count": 5,
   "metadata": {},
   "outputs": [
    {
     "data": {
      "text/plain": [
       "[3,\n",
       " 3.223983201118192,\n",
       " 3.443716478546468,\n",
       " 3.6588798628747936,\n",
       " 3.869224781440073,\n",
       " 4.074562720361791]"
      ]
     },
     "execution_count": 5,
     "metadata": {},
     "output_type": "execute_result"
    }
   ],
   "source": [
    "example.gen_k_sequence(k_t=3, t=5)"
   ]
  },
  {
   "cell_type": "code",
   "execution_count": 6,
   "metadata": {},
   "outputs": [
    {
     "data": {
      "text/plain": [
       "9.825511912007629"
      ]
     },
     "execution_count": 6,
     "metadata": {},
     "output_type": "execute_result"
    }
   ],
   "source": [
    "example.calc_steady_state()"
   ]
  },
  {
   "cell_type": "code",
   "execution_count": 7,
   "metadata": {},
   "outputs": [
    {
     "data": {
      "text/plain": [
       "{'K': 449.99999999999994,\n",
       " 'Y': 208.55837554738633,\n",
       " 'I': 62.5675126642159,\n",
       " 'C': 145.99086288317042}"
      ]
     },
     "execution_count": 7,
     "metadata": {},
     "output_type": "execute_result"
    }
   ],
   "source": [
    "example.calc_aggregate(k_t=3, A_t=0.3, L_t=500)"
   ]
  },
  {
   "cell_type": "code",
   "execution_count": 8,
   "metadata": {},
   "outputs": [
    {
     "data": {
      "text/plain": [
       "{'k': 3,\n",
       " 'y': 1.3903891703159088,\n",
       " 'i': 0.41711675109477264,\n",
       " 'c': 0.9732724192211362}"
      ]
     },
     "execution_count": 8,
     "metadata": {},
     "output_type": "execute_result"
    }
   ],
   "source": [
    "example.calc_per_worker(k_t=3, A_t=0.3, L_t=500)"
   ]
  },
  {
   "cell_type": "code",
   "execution_count": 9,
   "metadata": {},
   "outputs": [
    {
     "data": {
      "text/plain": [
       "[{'k': 3,\n",
       "  'y': 1.3903891703159088,\n",
       "  'i': 0.41711675109477264,\n",
       "  'c': 0.9732724192211362},\n",
       " {'k': 3.223983201118192,\n",
       "  'y': 1.420750544179696,\n",
       "  'i': 0.42622516325390875,\n",
       "  'c': 0.9945253809257871},\n",
       " {'k': 3.443716478546468,\n",
       "  'y': 1.4491329005841829,\n",
       "  'i': 0.43473987017525484,\n",
       "  'c': 1.014393030408928},\n",
       " {'k': 3.6588798628747936,\n",
       "  'y': 1.4757216371163187,\n",
       "  'i': 0.4427164911348956,\n",
       "  'c': 1.033005145981423},\n",
       " {'k': 3.869224781440073,\n",
       "  'y': 1.5006768679547486,\n",
       "  'i': 0.45020306038642455,\n",
       "  'c': 1.050473807568324}]"
      ]
     },
     "execution_count": 9,
     "metadata": {},
     "output_type": "execute_result"
    }
   ],
   "source": [
    "example.gen_per_worker_seq(k_t=3, A_t=0.3, L_t=500, t=5) "
   ]
  },
  {
   "cell_type": "code",
   "execution_count": 10,
   "metadata": {},
   "outputs": [
    {
     "data": {
      "image/png": "[encoded data removed]",
      "text/plain": [
       "<Figure size 432x288 with 1 Axes>"
      ]
     },
     "metadata": {
      "needs_background": "light"
     },
     "output_type": "display_data"
    }
   ],
   "source": [
    "# 9. Scenario analysis - what will happen to GDP per capita to a country that has no productivity growth, versus a country in which productivity grows at 2% per year?\n",
    "# g=0 vs g=2%\n",
    "import matplotlib.pyplot as plt\n",
    "\n",
    "\n",
    "country1 = Solow (n = 0.03, s = 0.3, δ = 0.01, α = 0.3, g = -0.003) # UK had g = -0.3% in the covid pandemic\n",
    "country2 = Solow (n = 0.03, s = 0.3, δ = 0.01, α = 0.3, g = 0.026) # USA had g = 2.6% in covid pandemic\n",
    "\n",
    "time = list(range(200))\n",
    "\n",
    "GDP1 = country1.gen_per_worker_seq(k_t=3, A_t=0.3, L_t=500, t=200)\n",
    "list1=[]\n",
    "for i in range(200):\n",
    "    list1.append(GDP1[i]['y'])\n",
    "\n",
    "\n",
    "GDP2 = country2.gen_per_worker_seq(k_t=3, A_t=0.3, L_t=500, t=200)\n",
    "list2=[]\n",
    "for x in range(200):\n",
    "    list2.append(GDP2[x]['y'])   \n",
    "\n",
    "plt.plot(time, list1, label = \"g = -0.3%\")\n",
    "plt.plot(time, list2, label = \"g = 2.6%\")\n",
    "plt.title(\"The Effect of different g on GDP per Capita\")    \n",
    "plt.xlabel(\"Time (years)\")\n",
    "plt.ylabel(\"GDP per capita\")\n",
    "\n",
    "\n",
    "plt.show()"
   ]
  }
 ],
 "metadata": {
  "celltoolbar": "Slideshow",
  "kernelspec": {
   "display_name": "Python 3",
   "language": "python",
   "name": "python3"
  },
  "language_info": {
   "codemirror_mode": {
    "name": "ipython",
    "version": 3
   },
   "file_extension": ".py",
   "mimetype": "text/x-python",
   "name": "python",
   "nbconvert_exporter": "python",
   "pygments_lexer": "ipython3",
   "version": "3.8.5"
  }
 },
 "nbformat": 4,
 "nbformat_minor": 5
}
