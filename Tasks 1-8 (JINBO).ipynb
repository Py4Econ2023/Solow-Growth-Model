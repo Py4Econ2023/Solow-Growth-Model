{
 "cells": [
  {
   "cell_type": "code",
   "execution_count": 1,
   "id": "a7dd3173",
   "metadata": {},
   "outputs": [],
   "source": [
    "import pandas as pd\n",
    "import numpy as np\n",
    "import matplotlib.pyplot as plt"
   ]
  },
  {
   "cell_type": "code",
   "execution_count": 2,
   "id": "407b705a",
   "metadata": {},
   "outputs": [],
   "source": [
    "#1.Create a class 'Solow' with attributes being the parameters of the model (n, s, 𝛿, 𝛼, g);(Cobb_Douglas function)\n",
    "class Solow:\n",
    "    def __init__(self, n, s, 𝛿, 𝛼, g):\n",
    "        self.n, self.s, self.𝛿, self.𝛼, self.g = n, s, 𝛿, 𝛼, g\n",
    "        \n",
    "    #2. Add a method which calculates the RHS of the equation (1), given a value for  𝑘𝑡    \n",
    "    def calc_next_period_k(self,k_t):\n",
    "        return ((self.s*(k_t**self.𝛼) + (1-self.𝛿)*k_t)/((1+self.g)*(1+self.n)))\n",
    "    \n",
    "    #3. Add a method that updates the current value of  𝑘𝑡\n",
    "    def update_current_k(self,k_t):\n",
    "        k_t = self.calc_next_period_k\n",
    "        return k_t\n",
    "    \n",
    "    #4. Add a method that generates a sequence of values for  𝑘𝑡 for  𝑡 periods\n",
    "    def gen_sequence_k(self, t, k0):\n",
    "        k_sequence = [k0]\n",
    "        for index in range(t):\n",
    "            k_sequence.append(self.calc_next_period_k(k_sequence[index]))\n",
    "        return k_sequence\n",
    "    \n",
    "    #5. Add a method that calculates the steady state\n",
    "    def calc_steady_state(self):\n",
    "        return (self.s/(self.g+self.n+self.𝛿+self.g*self.n))**(1/(1-self.𝛼))\n",
    "    \n",
    "    #6. Add a method that computes the value of the aggregate variables from a value of  𝑘, 𝐴, and 𝐿\n",
    "    def calc_K(self, k_t, A_t, L_t):\n",
    "        K_t = k_t * A_t * L_t\n",
    "        return K_t\n",
    "    def calc_Y(self, k_t, A_t, L_t):\n",
    "        Y_t = ((k_t * A_t * L_t)**(self.𝛼) * (A_t * L_t)**(1-self.𝛼))\n",
    "        return Y_t\n",
    "    def calc_I(self, k_t, A_t, L_t):\n",
    "        I_t = ((k_t * A_t * L_t)**(self.𝛼) * (A_t * L_t)**(1-self.𝛼)) * self.s\n",
    "        return I_t\n",
    "    def calc_C(self, k_t, A_t, L_t):\n",
    "        C_t = ((k_t * A_t * L_t)**(self.𝛼) * (A_t * L_t)**(1-self.𝛼)) * (1-self.s)\n",
    "        return C_t\n",
    "    \n",
    "    #7. Add a method that computes the per worker variables\n",
    "    def calc_y(self, k_t, A_t, L_t):\n",
    "        y_t = ((k_t * A_t * L_t)**(self.𝛼) * (A_t * L_t)**(1-self.𝛼)) / L_t\n",
    "        return y_t\n",
    "    def calc_i(self, k_t, A_t, L_t):\n",
    "        i_t = ((k_t * A_t * L_t)**(self.𝛼) * (A_t * L_t)**(1-self.𝛼)) * self.s / L_t\n",
    "        return i_t\n",
    "    def calc_c(self, k_t, A_t, L_t):\n",
    "        c_t = ((k_t * A_t * L_t)**(self.𝛼) * (A_t * L_t)**(1-self.𝛼)) * (1-self.s) / L_t\n",
    "        return c_t\n",
    "    \n",
    "    #8. Add a method that generates a series of per worker variables???\n",
    "    def gen_series_y(self, t, k0, A0, L0):\n",
    "        y_series = pd.Series(dtype = 'float64')\n",
    "        for index in range(t):\n",
    "            y_value = pd.Series(self.calc_y(k_t=self.gen_sequence_k(t, k0)[index],A_t=A0, L_t=L0))\n",
    "            y_series = pd.concat([y_series, y_value], ignore_index = True)\n",
    "        return y_series\n",
    "    #Similar for generate series for i and c"
   ]
  },
  {
   "cell_type": "code",
   "execution_count": 3,
   "id": "307dd3f8",
   "metadata": {},
   "outputs": [
    {
     "data": {
      "text/plain": [
       "9.522469301735656"
      ]
     },
     "execution_count": 3,
     "metadata": {},
     "output_type": "execute_result"
    }
   ],
   "source": [
    "#Scenario analysis\n",
    "economy1 = Solow(n=0.01, s=0.3, 𝛿=0.05, 𝛼=0.3, g=0.05)\n",
    "economy1.calc_next_period_k(10)"
   ]
  },
  {
   "cell_type": "code",
   "execution_count": 4,
   "id": "2db8efce",
   "metadata": {},
   "outputs": [
    {
     "data": {
      "text/plain": [
       "<bound method Solow.calc_next_period_k of <__main__.Solow object at 0x7f98c92de940>>"
      ]
     },
     "execution_count": 4,
     "metadata": {},
     "output_type": "execute_result"
    }
   ],
   "source": [
    "economy1.update_current_k(10)"
   ]
  },
  {
   "cell_type": "code",
   "execution_count": 5,
   "id": "3117ed56",
   "metadata": {},
   "outputs": [
    {
     "data": {
      "text/plain": [
       "[10,\n",
       " 9.522469301735656,\n",
       " 9.086470542273057,\n",
       " 8.688135474560342,\n",
       " 8.323979081637113,\n",
       " 7.9908600134080325]"
      ]
     },
     "execution_count": 5,
     "metadata": {},
     "output_type": "execute_result"
    }
   ],
   "source": [
    "economy1.gen_sequence_k(t=5, k0=10)"
   ]
  },
  {
   "cell_type": "code",
   "execution_count": 6,
   "id": "cade73ed",
   "metadata": {},
   "outputs": [
    {
     "data": {
      "text/plain": [
       "4.1653901048210935"
      ]
     },
     "execution_count": 6,
     "metadata": {},
     "output_type": "execute_result"
    }
   ],
   "source": [
    "economy1.calc_steady_state()"
   ]
  },
  {
   "cell_type": "code",
   "execution_count": 7,
   "id": "4f162706",
   "metadata": {},
   "outputs": [
    {
     "data": {
      "text/plain": [
       "15000.0"
      ]
     },
     "execution_count": 7,
     "metadata": {},
     "output_type": "execute_result"
    }
   ],
   "source": [
    "economy1.calc_K(k_t=10, A_t=1.5, L_t=1000)"
   ]
  },
  {
   "cell_type": "code",
   "execution_count": 8,
   "id": "c2f7515d",
   "metadata": {
    "scrolled": true
   },
   "outputs": [
    {
     "data": {
      "text/plain": [
       "2992.893472453318"
      ]
     },
     "execution_count": 8,
     "metadata": {},
     "output_type": "execute_result"
    }
   ],
   "source": [
    "economy1.calc_Y(k_t=10, A_t=1.5, L_t=1000)"
   ]
  },
  {
   "cell_type": "code",
   "execution_count": 9,
   "id": "95d338fd",
   "metadata": {
    "scrolled": true
   },
   "outputs": [
    {
     "data": {
      "text/plain": [
       "2.992893472453318"
      ]
     },
     "execution_count": 9,
     "metadata": {},
     "output_type": "execute_result"
    }
   ],
   "source": [
    "economy1.calc_y(k_t=10, A_t=1.5, L_t=1000)"
   ]
  },
  {
   "cell_type": "code",
   "execution_count": 10,
   "id": "bb7a5376",
   "metadata": {},
   "outputs": [
    {
     "data": {
      "text/plain": [
       "0    2.992893\n",
       "1    2.949281\n",
       "2    2.908103\n",
       "3    2.869256\n",
       "4    2.832635\n",
       "dtype: float64"
      ]
     },
     "execution_count": 10,
     "metadata": {},
     "output_type": "execute_result"
    }
   ],
   "source": [
    "economy1.gen_series_y(t=5, k0=10, A0=1.5, L0=1000)"
   ]
  }
 ],
 "metadata": {
  "kernelspec": {
   "display_name": "Python 3 (ipykernel)",
   "language": "python",
   "name": "python3"
  },
  "language_info": {
   "codemirror_mode": {
    "name": "ipython",
    "version": 3
   },
   "file_extension": ".py",
   "mimetype": "text/x-python",
   "name": "python",
   "nbconvert_exporter": "python",
   "pygments_lexer": "ipython3",
   "version": "3.9.13"
  }
 },
 "nbformat": 4,
 "nbformat_minor": 5
}
