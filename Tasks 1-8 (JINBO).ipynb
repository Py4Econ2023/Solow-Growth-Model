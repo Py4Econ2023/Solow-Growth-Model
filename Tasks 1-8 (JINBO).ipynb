{
 "cells": [
  {
   "cell_type": "code",
   "execution_count": 1,
   "id": "407b705a",
   "metadata": {},
   "outputs": [],
   "source": [
    "#1.Create a class 'Solow' with attributes being the parameters of the model (n, s, 𝛿, 𝛼, g);(Cobb_Douglas function)\n",
    "class Solow:\n",
    "    def __init__(self, n, s, 𝛿, 𝛼, g):\n",
    "        self.n, self.s, self.𝛿, self.𝛼, self.g = n, s, 𝛿, 𝛼, g\n",
    "        \n",
    "    #2. Add a method which calculates the RHS of the equation (1), given a value for  𝑘𝑡    \n",
    "    def calc_next_period_k(self,k_t):\n",
    "        return ((self.s*(k_t**self.𝛼) + (1-self.𝛿)*k_t)/((1+self.g)*(1+self.n)))\n",
    "    \n",
    "    #3. Add a method that updates the current value of  𝑘𝑡\n",
    "    def update_current_k(self,k_t):\n",
    "        k_t = self.calc_next_period_k(k_t)\n",
    "        return k_t\n",
    "    \n",
    "    #4. Add a method that generates a sequence of values for  𝑘𝑡 for  𝑡 periods\n",
    "    def gen_k_sequence(self, k_t, t):\n",
    "        k_sequence = [k_t]\n",
    "        for index in range(t):\n",
    "            k_sequence.append(self.calc_next_period_k(k_sequence[index]))\n",
    "        return k_sequence\n",
    "    \n",
    "    #5. Add a method that calculates the steady state\n",
    "    def calc_steady_state(self):\n",
    "        return (self.s/(self.g+self.n+self.𝛿+self.g*self.n))**(1/(1-self.𝛼))\n",
    "    \n",
    "    #6. Add a method that computes the value of the aggregate variables from a value of  𝑘, 𝐴, and 𝐿\n",
    "    def calc_aggregate(self, k_t, A_t, L_t):\n",
    "        K_t = k_t * A_t * L_t\n",
    "        Y_t = ((k_t * A_t * L_t)**(self.𝛼) * (A_t * L_t)**(1-self.𝛼))\n",
    "        I_t = ((k_t * A_t * L_t)**(self.𝛼) * (A_t * L_t)**(1-self.𝛼)) * self.s\n",
    "        C_t = ((k_t * A_t * L_t)**(self.𝛼) * (A_t * L_t)**(1-self.𝛼)) * (1-self.s)\n",
    "        return [K_t, Y_t, I_t, C_t]\n",
    "        \n",
    "    #7. Add a method that computes the per worker variables\n",
    "    def calc_per_worker(self, k_t, A_t, L_t):\n",
    "        aggregate = self.calc_aggregate(k_t, A_t, L_t)\n",
    "        k_t = (aggregate[0])/(A_t*L_t)\n",
    "        y_t = (aggregate[1])/(A_t*L_t)\n",
    "        i_t = (aggregate[2])/(A_t*L_t)   \n",
    "        c_t = (aggregate[3])/(A_t*L_t)    \n",
    "        return [k_t, y_t, i_t, c_t]\n",
    "        \n",
    "    #8. Add a method that generates a series of per worker variables\n",
    "    def gen_per_worker_sequence(self, k_t, A_t, L_t, t):\n",
    "        per_worker = self.calc_per_worker(k_t, A_t, L_t)\n",
    "        per_w_seq = []\n",
    "        for index in range(t):\n",
    "            per_w_seq.append(self.calc_per_worker(self.gen_k_sequence(k_t,t)[index],A_t, L_t))\n",
    "        return per_w_seq"
   ]
  },
  {
   "cell_type": "code",
   "execution_count": 2,
   "id": "307dd3f8",
   "metadata": {},
   "outputs": [
    {
     "data": {
      "text/plain": [
       "10.190356169663707"
      ]
     },
     "execution_count": 2,
     "metadata": {},
     "output_type": "execute_result"
    }
   ],
   "source": [
    "#Scenario analysis\n",
    "economy1 = Solow(n=0.01, s=0.4, 𝛿=0.03, 𝛼=0.3, g=0.02)\n",
    "economy1.calc_next_period_k(10)"
   ]
  },
  {
   "cell_type": "code",
   "execution_count": 3,
   "id": "2db8efce",
   "metadata": {},
   "outputs": [
    {
     "data": {
      "text/plain": [
       "10.190356169663707"
      ]
     },
     "execution_count": 3,
     "metadata": {},
     "output_type": "execute_result"
    }
   ],
   "source": [
    "economy1.update_current_k(10)"
   ]
  },
  {
   "cell_type": "code",
   "execution_count": 4,
   "id": "3117ed56",
   "metadata": {},
   "outputs": [
    {
     "data": {
      "text/plain": [
       "[10,\n",
       " 10.190356169663707,\n",
       " 10.373983783895047,\n",
       " 10.551066551071191,\n",
       " 10.72178890400823,\n",
       " 10.88633518377647]"
      ]
     },
     "execution_count": 4,
     "metadata": {},
     "output_type": "execute_result"
    }
   ],
   "source": [
    "economy1.gen_k_sequence(k_t=10,t=5)"
   ]
  },
  {
   "cell_type": "code",
   "execution_count": 5,
   "id": "cade73ed",
   "metadata": {},
   "outputs": [
    {
     "data": {
      "text/plain": [
       "14.960560241348906"
      ]
     },
     "execution_count": 5,
     "metadata": {},
     "output_type": "execute_result"
    }
   ],
   "source": [
    "economy1.calc_steady_state()"
   ]
  },
  {
   "cell_type": "code",
   "execution_count": 6,
   "id": "4f162706",
   "metadata": {},
   "outputs": [
    {
     "data": {
      "text/plain": [
       "[15000.0, 2992.893472453318, 1197.1573889813271, 1795.7360834719907]"
      ]
     },
     "execution_count": 6,
     "metadata": {},
     "output_type": "execute_result"
    }
   ],
   "source": [
    "economy1.calc_aggregate(k_t=10, A_t=1.5, L_t=1000)"
   ]
  },
  {
   "cell_type": "code",
   "execution_count": 7,
   "id": "bb7a5376",
   "metadata": {
    "scrolled": true
   },
   "outputs": [
    {
     "data": {
      "text/plain": [
       "[10.0, 1.9952623149688786, 0.7981049259875515, 1.1971573889813272]"
      ]
     },
     "execution_count": 7,
     "metadata": {},
     "output_type": "execute_result"
    }
   ],
   "source": [
    "economy1.calc_per_worker(k_t=10, A_t=1.5, L_t=1000)"
   ]
  },
  {
   "cell_type": "code",
   "execution_count": 8,
   "id": "443eeab4",
   "metadata": {},
   "outputs": [
    {
     "data": {
      "text/plain": [
       "[[10.0, 1.9952623149688786, 0.7981049259875515, 1.1971573889813272],\n",
       " [10.190356169663705,\n",
       "  2.0065815239872022,\n",
       "  0.802632609594881,\n",
       "  1.2039489143923214],\n",
       " [10.373983783895047,\n",
       "  2.0173612263383642,\n",
       "  0.8069444905353457,\n",
       "  1.2104167358030185],\n",
       " [10.551066551071191,\n",
       "  2.0276309359255587,\n",
       "  0.8110523743702235,\n",
       "  1.216578561555335],\n",
       " [10.721788904008232,\n",
       "  2.03741817359634,\n",
       "  0.8149672694385361,\n",
       "  1.2224509041578042]]"
      ]
     },
     "execution_count": 8,
     "metadata": {},
     "output_type": "execute_result"
    }
   ],
   "source": [
    "economy1.gen_per_worker_sequence(k_t=10, A_t=1.5, L_t=1000, t=5)"
   ]
  }
 ],
 "metadata": {
  "kernelspec": {
   "display_name": "Python 3 (ipykernel)",
   "language": "python",
   "name": "python3"
  },
  "language_info": {
   "codemirror_mode": {
    "name": "ipython",
    "version": 3
   },
   "file_extension": ".py",
   "mimetype": "text/x-python",
   "name": "python",
   "nbconvert_exporter": "python",
   "pygments_lexer": "ipython3",
   "version": "3.9.13"
  }
 },
 "nbformat": 4,
 "nbformat_minor": 5
}
