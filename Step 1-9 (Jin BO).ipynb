{
 "cells": [
  {
   "cell_type": "code",
   "execution_count": 1,
   "id": "a87b3588",
   "metadata": {},
   "outputs": [],
   "source": [
    "# 1.Create a class 'Solow' with attributes being the parameters of the model (n, s, 𝛿, 𝛼, g);(Cobb_Douglas function)\n",
    "class Solow:\n",
    "    def __init__(self, n, s, 𝛿, 𝛼, g):\n",
    "        self.n, self.s, self.𝛿, self.𝛼, self.g = n, s, 𝛿, 𝛼, g\n",
    "        \n",
    "    # 2. Add a method which calculates the RHS of the equation (1), given a value for  𝑘𝑡    \n",
    "    def calc_next_k(self,k_t):\n",
    "        return ((self.s*(k_t**self.𝛼) + (1-self.𝛿)*k_t)/((1+self.g)*(1+self.n)))\n",
    "    \n",
    "    # 3.Add a method that updates the current value of k_t\n",
    "    def update_k_t(self, k_t):\n",
    "        k_t = self.calc_next_k(k_t)\n",
    "        return k_t\n",
    "    # 4.Add a method that generates a sequence of values for k_t, for t periods\n",
    "    def gen_k_sequence(self, k_t, t):\n",
    "        k_sequence = [k_t]\n",
    "        for index in range(t):\n",
    "            k_sequence.append(self.calc_next_k(k_sequence[index]))\n",
    "        return k_sequence\n",
    "    \n",
    "    # 5.Add a method that calculates the steady state\n",
    "    def calc_steady_state(self):\n",
    "        return ((self.s)/(self.g + self.n + self.δ + self.g * self.n)) ** (1 / (1 - self.α))   \n",
    "    \n",
    "    # 6. Add a method that computes the value of the aggregate variables from a value of  𝑘, 𝐴, and 𝐿\n",
    "    def calc_aggregate(self, k_t, A_t, L_t):\n",
    "        agg_var = {}\n",
    "        K_t = k_t * A_t * L_t\n",
    "        Y_t = ((k_t * A_t * L_t)**(self.𝛼) * (A_t * L_t)**(1-self.𝛼))\n",
    "        I_t = Y_t * self.s\n",
    "        C_t = Y_t * (1-self.s)\n",
    "        agg_var['K'], agg_var['Y'], agg_var['I'], agg_var['C'] = K_t, Y_t, I_t, C_t\n",
    "        return agg_var \n",
    "    \n",
    "    # 7. Add a method that computes the per worker variables.\n",
    "    def calc_per_worker(self, k_t, A_t, L_t):\n",
    "        agg_var = self.calc_aggregate(k_t, A_t, L_t)\n",
    "        denominator = A_t*L_t\n",
    "        pw_var = {} #per-worker variables\n",
    "        y_t = agg_var[\"Y\"]/denominator #output per efficient worker\n",
    "        c_t = agg_var[\"C\"]/denominator #consumption per efficient worker\n",
    "        i_t = agg_var[\"I\"]/denominator #investment per efficient worker\n",
    "        \n",
    "        pw_var['k'], pw_var['y'], pw_var['i'], pw_var['c'] = k_t,y_t,i_t,c_t\n",
    "\n",
    "        return pw_var\n",
    "\n",
    "    # 8. (UPDATED FROM TIANYIN) Add a method that generates a series of per worker variables¶.\n",
    "    def gen_per_worker_seq(self, k_t, A_t, L_t, t):\n",
    "        pw_sequence ={'k':[],'y':[],'i':[],'c':[]} \n",
    "        keys = list(pw_sequence.keys())\n",
    "        for index in range(t):\n",
    "            pw_var = self.calc_per_worker(k_t, A_t, L_t)\n",
    "            for k in keys:\n",
    "                pw_sequence[k].append(pw_var[k])\n",
    "            k_t = self.calc_next_k(k_t)\n",
    "            A_t = (1+self.g)*A_t\n",
    "            L_t = (1+self.n)*L_t  \n",
    "        return pw_sequence"
   ]
  },
  {
   "cell_type": "code",
   "execution_count": 2,
   "id": "19de797a",
   "metadata": {},
   "outputs": [],
   "source": [
    "example = Solow (n = 0.03, s = 0.3, δ = 0.01, α = 0.3, g = 0.02)"
   ]
  },
  {
   "cell_type": "code",
   "execution_count": 3,
   "id": "7d0e2973",
   "metadata": {},
   "outputs": [
    {
     "data": {
      "text/plain": [
       "3.223983201118192"
      ]
     },
     "execution_count": 3,
     "metadata": {},
     "output_type": "execute_result"
    }
   ],
   "source": [
    "example.calc_next_k(k_t=3)"
   ]
  },
  {
   "cell_type": "code",
   "execution_count": 4,
   "id": "2f856d38",
   "metadata": {},
   "outputs": [
    {
     "data": {
      "text/plain": [
       "3.223983201118192"
      ]
     },
     "execution_count": 4,
     "metadata": {},
     "output_type": "execute_result"
    }
   ],
   "source": [
    "example.update_k_t(k_t=3)"
   ]
  },
  {
   "cell_type": "code",
   "execution_count": 5,
   "id": "8589b8be",
   "metadata": {},
   "outputs": [
    {
     "data": {
      "text/plain": [
       "[3,\n",
       " 3.223983201118192,\n",
       " 3.443716478546468,\n",
       " 3.6588798628747936,\n",
       " 3.869224781440073,\n",
       " 4.074562720361791]"
      ]
     },
     "execution_count": 5,
     "metadata": {},
     "output_type": "execute_result"
    }
   ],
   "source": [
    "example.gen_k_sequence(k_t=3, t=5)"
   ]
  },
  {
   "cell_type": "code",
   "execution_count": 6,
   "id": "c46912fb",
   "metadata": {},
   "outputs": [
    {
     "data": {
      "text/plain": [
       "9.825511912007629"
      ]
     },
     "execution_count": 6,
     "metadata": {},
     "output_type": "execute_result"
    }
   ],
   "source": [
    "example.calc_steady_state()"
   ]
  },
  {
   "cell_type": "code",
   "execution_count": 7,
   "id": "c2bb79b2",
   "metadata": {},
   "outputs": [
    {
     "data": {
      "text/plain": [
       "{'K': 89.99999999999999,\n",
       " 'Y': 41.71167510947727,\n",
       " 'I': 12.51350253284318,\n",
       " 'C': 29.198172576634086}"
      ]
     },
     "execution_count": 7,
     "metadata": {},
     "output_type": "execute_result"
    }
   ],
   "source": [
    "example.calc_aggregate(k_t=3, A_t=0.3, L_t=100)"
   ]
  },
  {
   "cell_type": "code",
   "execution_count": 8,
   "id": "8091b10c",
   "metadata": {},
   "outputs": [
    {
     "data": {
      "text/plain": [
       "{'k': 3,\n",
       " 'y': 1.390389170315909,\n",
       " 'i': 0.4171167510947727,\n",
       " 'c': 0.9732724192211362}"
      ]
     },
     "execution_count": 8,
     "metadata": {},
     "output_type": "execute_result"
    }
   ],
   "source": [
    "example.calc_per_worker(k_t=3, A_t=0.3, L_t=100)"
   ]
  },
  {
   "cell_type": "code",
   "execution_count": 9,
   "id": "3e93ca60",
   "metadata": {
    "scrolled": true
   },
   "outputs": [
    {
     "data": {
      "text/plain": [
       "{'k': [3, 3.223983201118192, 3.443716478546468],\n",
       " 'y': [1.390389170315909, 1.4207505441796962, 1.4491329005841829],\n",
       " 'i': [0.4171167510947727, 0.4262251632539088, 0.4347398701752549],\n",
       " 'c': [0.9732724192211362, 0.9945253809257874, 1.014393030408928]}"
      ]
     },
     "execution_count": 9,
     "metadata": {},
     "output_type": "execute_result"
    }
   ],
   "source": [
    "example.gen_per_worker_seq(k_t=3, A_t=0.3, L_t=100, t=3)"
   ]
  },
  {
   "cell_type": "code",
   "execution_count": 10,
   "id": "77283a0a",
   "metadata": {
    "scrolled": true
   },
   "outputs": [
    {
     "data": {
      "image/png": "[encoded data removed]",
      "text/plain": [
       "<Figure size 640x480 with 1 Axes>"
      ]
     },
     "metadata": {},
     "output_type": "display_data"
    }
   ],
   "source": [
    "# 9.Scenario Analysis 1: Two countries only differ in their population growth rate n.\n",
    "import matplotlib.pyplot as plt\n",
    "\n",
    "time = 200\n",
    "time_var = list(range(time))\n",
    "\n",
    "economy1 = Solow (n = 0.03, s = 0.3, δ = 0.01, α = 0.3, g = 0.02)\n",
    "economy2 = Solow (n = 0.01, s = 0.3, δ = 0.01, α = 0.3, g = 0.02)\n",
    "economy3 = Solow (n = -0.01, s = 0.3, δ = 0.01, α = 0.3, g = 0.02)\n",
    "\n",
    "y_seq_1 = economy1.gen_per_worker_seq(k_t = 3, A_t = 0.3, L_t = 100, t = time)['y']\n",
    "y_seq_2 = economy2.gen_per_worker_seq(k_t = 3, A_t = 0.3, L_t = 100, t = time)['y']\n",
    "y_seq_3 = economy3.gen_per_worker_seq(k_t = 3, A_t = 0.3, L_t = 100, t = time)['y']\n",
    "\n",
    "plt.plot(time_var, y_seq_1, label = 'n = 3%')\n",
    "plt.plot(time_var, y_seq_2, label = 'n = 1%')\n",
    "plt.plot(time_var, y_seq_3, label = 'n = -1%')\n",
    "plt.title('Economies of Different Population Growth Rate')\n",
    "plt.xlabel(\"Time\")\n",
    "plt.ylabel(\"Output per Efficient Worker\")\n",
    "plt.legend()\n",
    "plt.show()"
   ]
  },
  {
   "cell_type": "code",
   "execution_count": null,
   "id": "bbbb2b36",
   "metadata": {},
   "outputs": [],
   "source": []
  }
 ],
 "metadata": {
  "kernelspec": {
   "display_name": "Python 3 (ipykernel)",
   "language": "python",
   "name": "python3"
  },
  "language_info": {
   "codemirror_mode": {
    "name": "ipython",
    "version": 3
   },
   "file_extension": ".py",
   "mimetype": "text/x-python",
   "name": "python",
   "nbconvert_exporter": "python",
   "pygments_lexer": "ipython3",
   "version": "3.9.13"
  }
 },
 "nbformat": 4,
 "nbformat_minor": 5
}
