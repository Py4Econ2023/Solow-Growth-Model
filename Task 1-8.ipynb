{
 "cells": [
  {
   "cell_type": "code",
   "execution_count": 34,
   "id": "39bbc1f6",
   "metadata": {},
   "outputs": [],
   "source": [
    "class Solow:\n",
    "    \n",
    "### 1. Create a class called `Solow' with attributes being the parameters of the Solow growth model (n, s, delta, alpha, g). \n",
    "    def __init__(self, n, s, delta, alpha, g):\n",
    "        self.n = n\n",
    "        self.s = s\n",
    "        self.delta = delta\n",
    "        self.alpha = alpha\n",
    "        self.g = g\n",
    "        \n",
    "        \n",
    "### 2. Add a method which calculates the RHS of the equation (1), given a value for kt\n",
    "    def RHS(self, kt):\n",
    "        rhs = (self.s * kt ** self.alpha + (1-self.delta)*kt)/((1+self.n)*(1+self.g))\n",
    "        return rhs\n",
    "    \n",
    "    \n",
    "### 3. Add a method that updates the current value of kt.\n",
    "    def update_kt(self,kt):\n",
    "        self.curr_kt = kt\n",
    "\n",
    "        \n",
    "### 4. Add a method that generates a sequence of values for kt, for t periods. \n",
    "    def sequence_kt(self, t, k0):\n",
    "        sequence = [k0]\n",
    "        kt = k0\n",
    "        for time in range (t):\n",
    "            kt = self.RHS(kt)\n",
    "            sequence.append(kt)\n",
    "            \n",
    "        return sequence\n",
    "            \n",
    "\n",
    "### 5. Add a method that calculates the steady state.\n",
    "    def steady_state(self):\n",
    "        k_star = (self.s/(self.g + self.n + self.delta + self.g*self.n)) ** (1/(1-self.alpha))\n",
    "        return k_star\n",
    "    \n",
    "    \n",
    "### 6. Add a method that computes the value of the aggregate variables from a value of k, A, and L.\n",
    "    def aggregate_var(self, k, A, L):\n",
    "        agg_var = {}\n",
    "        key = [\"Capital\", \"Output\", \"Investment\", \"Consumption\"]\n",
    "        #The dictionary of aggregate variables: Y, K, I, C\n",
    "        K = self.k * L\n",
    "        Y = K**self.alpha * (A*L)**(1-self.alpha) #Cobb-Douglas\n",
    "        I = self.s * Y\n",
    "        C = (1-self.s) * Y\n",
    "        agg_var[key] = [K,Y,I,C]\n",
    "\n",
    "        return agg_var\n",
    "    \n",
    "    \n",
    "### 7. Add a method that computes the per worker variables.\n",
    "    def per_worker_var(self, Y, A, L):\n",
    "        y = Y/(A*L) #output per efficient worker\n",
    "\n",
    "        return y\n",
    "            \n",
    "\n",
    "### 8. Add a method that generates a series of per worker variables¶.\n",
    "    def seq_per_worker_var(self, Y0, A0, L0, k0, t):\n",
    "        curr_A = A0\n",
    "        curr_L = L0\n",
    "        curr_Y = Y0\n",
    "        curr_k = k0 \n",
    "        sequence = []\n",
    "        \n",
    "        for time in range(t+1):\n",
    "            y = curr_Y/(curr_A * curr_L)\n",
    "            sequence.append(y)\n",
    "            curr_k = self.RHS(curr_k)\n",
    "            curr_A = (1+self.g)*curr_A\n",
    "            curr_L = (1+self.n)*curr_L\n",
    "            curr_K = curr_k * curr_L\n",
    "            curr_Y = curr_K ** self.alpha * (curr_A * curr_L)**(1-self.alpha)\n",
    "        \n",
    "        return sequence\n",
    "        "
   ]
  },
  {
   "cell_type": "code",
   "execution_count": 35,
   "id": "1d1597d7",
   "metadata": {},
   "outputs": [],
   "source": [
    "#Instance\n",
    "economy = Solow(n=0.03, s =0.25 , delta =0.1 , alpha =0.3 , g=0.02)"
   ]
  },
  {
   "cell_type": "code",
   "execution_count": 36,
   "id": "ba6f4599",
   "metadata": {},
   "outputs": [
    {
     "data": {
      "text/plain": [
       "[1,\n",
       " 1.0946126023224823,\n",
       " 1.182204602307939,\n",
       " 1.262952830996566,\n",
       " 1.3371351404833887,\n",
       " 1.4050914824250962,\n",
       " 1.4671965619704042,\n",
       " 1.5238406246524179,\n",
       " 1.5754160392644394,\n",
       " 1.622308052621677,\n",
       " 1.6648885662630186]"
      ]
     },
     "execution_count": 36,
     "metadata": {},
     "output_type": "execute_result"
    }
   ],
   "source": [
    "economy.sequence_kt(t=10, k0 = 1)"
   ]
  },
  {
   "cell_type": "code",
   "execution_count": 38,
   "id": "ec534b6f",
   "metadata": {},
   "outputs": [
    {
     "data": {
      "text/plain": [
       "[0.6666666666666666,\n",
       " 1.0046256863113534,\n",
       " 1.0079967450026275,\n",
       " 1.0102750178654891,\n",
       " 1.0115993916584594,\n",
       " 1.0120896375729833,\n",
       " 1.0118494789064985,\n",
       " 1.0109690704868701,\n",
       " 1.009527023342084,\n",
       " 1.0075920732710906,\n",
       " 1.0052244672959423]"
      ]
     },
     "execution_count": 38,
     "metadata": {},
     "output_type": "execute_result"
    }
   ],
   "source": [
    "economy.seq_per_worker_var(Y0 = 100, A0 = 1.5, L0 = 100, k0 = 1.5, t = 10)"
   ]
  }
 ],
 "metadata": {
  "kernelspec": {
   "display_name": "Python 3 (ipykernel)",
   "language": "python",
   "name": "python3"
  },
  "language_info": {
   "codemirror_mode": {
    "name": "ipython",
    "version": 3
   },
   "file_extension": ".py",
   "mimetype": "text/x-python",
   "name": "python",
   "nbconvert_exporter": "python",
   "pygments_lexer": "ipython3",
   "version": "3.9.13"
  }
 },
 "nbformat": 4,
 "nbformat_minor": 5
}
