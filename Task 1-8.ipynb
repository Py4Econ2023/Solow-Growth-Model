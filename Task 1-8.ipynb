{
 "cells": [
  {
   "cell_type": "code",
   "execution_count": 33,
   "id": "39bbc1f6",
   "metadata": {},
   "outputs": [],
   "source": [
    "class Solow:\n",
    "    \n",
    "### 1. Create a class called `Solow' with attributes being the parameters of the Solow growth model (n, s, delta, alpha, g). \n",
    "    def __init__(self, n, s, delta, alpha, g):\n",
    "        self.n = n\n",
    "        self.s = s\n",
    "        self.delta = delta\n",
    "        self.alpha = alpha\n",
    "        self.g = g\n",
    "        \n",
    "        \n",
    "### 2. Add a method which calculates the RHS of the equation (1), given a value for kt\n",
    "    def kt_plus_1(self, kt):\n",
    "        rhs = (self.s * kt ** self.alpha + (1-self.delta)*kt)/((1+self.n)*(1+self.g))\n",
    "        return rhs\n",
    "    \n",
    "    \n",
    "### 3. Add a method that updates the current value of kt.\n",
    "    def update_kt(self,kt):\n",
    "        self.curr_kt = kt\n",
    "\n",
    "        \n",
    "### 4. Add a method that generates a sequence of values for kt, for t periods. \n",
    "    def sequence_kt(self, t, k0):\n",
    "        sequence = [k0]\n",
    "        kt = k0\n",
    "        for time in range (t):\n",
    "            kt = self.kt_plus_1(kt)\n",
    "            sequence.append(kt)\n",
    "            \n",
    "        return sequence\n",
    "            \n",
    "\n",
    "### 5. Add a method that calculates the steady state.\n",
    "    def steady_state(self):\n",
    "        k_star = (self.s/(self.g + self.n + self.delta + self.g*self.n)) ** (1/(1-self.alpha))\n",
    "        return k_star\n",
    "    \n",
    "    \n",
    "### 6. Add a method that computes the value of the aggregate variables from a value of k, A, and L.\n",
    "    def aggregate_var(self, k, A, L):\n",
    "        agg_var = {}\n",
    "        #A dictionary of aggregate variables: Capital, Output, Investment, Consumption\n",
    "        K = k * L\n",
    "        Y = K**self.alpha * (A*L)**(1-self.alpha) #Cobb-Douglas\n",
    "        I = self.s * Y\n",
    "        C = (1-self.s) * Y\n",
    "        agg_var['K'], agg_var['Y'], agg_var['I'], agg_var['C'] = K, Y, I, C\n",
    "\n",
    "        return agg_var\n",
    "    \n",
    "    \n",
    "### 7. Add a method that computes the per worker variables.\n",
    "    def per_worker_var(self, k, A, L):\n",
    "        agg_var = self.aggregate_var(k, A, L)\n",
    "        denominator = A*L\n",
    "        pw_var = {} #per-worker variables\n",
    "        y = agg_var[\"Y\"]/denominator #output per efficient worker\n",
    "        c = agg_var[\"C\"]/denominator #consumption per efficient worker\n",
    "        i = agg_var[\"I\"]/denominator #investment per efficient worker\n",
    "        \n",
    "        pw_var['k'], pw_var['y'], pw_var['i'], pw_var['c'] = k,y,i,c\n",
    "\n",
    "        return pw_var\n",
    "            \n",
    "\n",
    "### 8. Add a method that generates a series of per worker variables¶.\n",
    "    def seq_per_worker_var(self, k0, A0, L0, t):\n",
    "        #Initialisation\n",
    "        curr_A = A0\n",
    "        curr_L = L0\n",
    "        curr_k = k0\n",
    "        sequence = [] #k, y, i, c\n",
    "        \n",
    "        for time in range(t):\n",
    "            pw_var = self.per_worker_var(curr_k, curr_A, curr_L)\n",
    "            sequence.append(pw_var) #entry starts from period 0\n",
    "            \n",
    "            #update\n",
    "            curr_k = self.kt_plus_1(curr_k)\n",
    "            curr_A = (1+self.g)*curr_A\n",
    "            curr_L = (1+self.n)*curr_L\n",
    "        \n",
    "        return sequence\n",
    "        "
   ]
  },
  {
   "cell_type": "code",
   "execution_count": 34,
   "id": "1d1597d7",
   "metadata": {},
   "outputs": [],
   "source": [
    "#Instance\n",
    "economy = Solow(n=0.03, s =0.25 , delta =0.1 , alpha =0.3 , g=0.02)"
   ]
  },
  {
   "cell_type": "code",
   "execution_count": 9,
   "id": "69c7f5f2",
   "metadata": {},
   "outputs": [
    {
     "data": {
      "text/plain": [
       "1.5537185740188595"
      ]
     },
     "execution_count": 9,
     "metadata": {},
     "output_type": "execute_result"
    }
   ],
   "source": [
    "# Method 2\n",
    "economy.kt_plus_1(kt = 1.5)"
   ]
  },
  {
   "cell_type": "code",
   "execution_count": 10,
   "id": "ba6f4599",
   "metadata": {
    "scrolled": true
   },
   "outputs": [
    {
     "data": {
      "text/plain": [
       "[1,\n",
       " 1.0946126023224823,\n",
       " 1.182204602307939,\n",
       " 1.262952830996566,\n",
       " 1.3371351404833887,\n",
       " 1.4050914824250962,\n",
       " 1.4671965619704042,\n",
       " 1.5238406246524179,\n",
       " 1.5754160392644394,\n",
       " 1.622308052621677,\n",
       " 1.6648885662630186]"
      ]
     },
     "execution_count": 10,
     "metadata": {},
     "output_type": "execute_result"
    }
   ],
   "source": [
    "# Method 4\n",
    "economy.sequence_kt(t=10, k0 = 1)"
   ]
  },
  {
   "cell_type": "code",
   "execution_count": 11,
   "id": "52abe766",
   "metadata": {},
   "outputs": [
    {
     "data": {
      "text/plain": [
       "2.0627664186560786"
      ]
     },
     "execution_count": 11,
     "metadata": {},
     "output_type": "execute_result"
    }
   ],
   "source": [
    "# Method 5\n",
    "economy.steady_state()"
   ]
  },
  {
   "cell_type": "code",
   "execution_count": 27,
   "id": "a4ba3888",
   "metadata": {},
   "outputs": [
    {
     "data": {
      "text/plain": [
       "{'K': 150.0,\n",
       " 'Y': 149.99999999999997,\n",
       " 'I': 37.49999999999999,\n",
       " 'C': 112.49999999999997}"
      ]
     },
     "execution_count": 27,
     "metadata": {},
     "output_type": "execute_result"
    }
   ],
   "source": [
    "# Method 6\n",
    "economy.aggregate_var(k = 1.5, A = 1.5, L = 100)"
   ]
  },
  {
   "cell_type": "code",
   "execution_count": 31,
   "id": "b9a5aed7",
   "metadata": {},
   "outputs": [
    {
     "data": {
      "text/plain": [
       "{'k': 1.5,\n",
       " 'y': 0.9999999999999998,\n",
       " 'i': 0.24999999999999994,\n",
       " 'c': 0.7499999999999998}"
      ]
     },
     "execution_count": 31,
     "metadata": {},
     "output_type": "execute_result"
    }
   ],
   "source": [
    "# Method 7\n",
    "economy.per_worker_var(k = 1.5, A = 1.5, L = 100)"
   ]
  },
  {
   "cell_type": "code",
   "execution_count": 37,
   "id": "ec534b6f",
   "metadata": {},
   "outputs": [
    {
     "name": "stdout",
     "output_type": "stream",
     "text": [
      "[{'k': 1.5, 'y': 0.9999999999999998, 'i': 0.24999999999999994, 'c': 0.7499999999999998}, {'k': 1.5537185740188595, 'y': 1.0046256863113534, 'i': 0.25115642157783835, 'c': 0.753469264733515}, {'k': 1.6025885477625483, 'y': 1.0079967450026275, 'i': 0.25199918625065687, 'c': 0.7559975587519706}, {'k': 1.6469881984326098, 'y': 1.0102750178654891, 'i': 0.2525687544663723, 'c': 0.7577062633991168}, {'k': 1.6872799446971058, 'y': 1.0115993916584594, 'i': 0.25289984791461484, 'c': 0.7586995437438445}, {'k': 1.7238072866731449, 'y': 1.0120896375729833, 'i': 0.25302240939324583, 'c': 0.7590672281797376}, {'k': 1.7568930742754945, 'y': 1.0118494789064985, 'i': 0.2529623697266246, 'c': 0.7588871091798738}, {'k': 1.7868387333944467, 'y': 1.0109690704868701, 'i': 0.25274226762171753, 'c': 0.7582268028651525}, {'k': 1.8139241756839954, 'y': 1.009527023342084, 'i': 0.252381755835521, 'c': 0.7571452675065632}, {'k': 1.8384081883966887, 'y': 1.0075920732710906, 'i': 0.25189801831777264, 'c': 0.7556940549533179}, {'k': 1.8605291529912722, 'y': 1.0052244672959423, 'i': 0.25130611682398557, 'c': 0.7539183504719567}, {'k': 1.8805059802098787, 'y': 1.0024771242171182, 'i': 0.25061928105427955, 'c': 0.7518578431628385}, {'k': 1.898539178523014, 'y': 0.9993966125260109, 'i': 0.24984915313150272, 'c': 0.7495474593945081}, {'k': 1.9148119948078464, 'y': 0.9960239793306862, 'i': 0.24900599483267155, 'c': 0.7470179844980147}, {'k': 1.9294915826922947, 'y': 0.9923954567585863, 'i': 0.24809886418964658, 'c': 0.7442965925689398}, {'k': 1.9427301665061272, 'y': 0.9885430668475043, 'i': 0.24713576671187606, 'c': 0.7414073001356282}, {'k': 1.95466617822268, 'y': 0.9844951417583738, 'i': 0.24612378543959346, 'c': 0.7383713563187805}, {'k': 1.965425351890358, 'y': 0.9802767729099967, 'i': 0.24506919322749918, 'c': 0.7352075796824975}, {'k': 1.9751217653971391, 'y': 0.9759102001097215, 'i': 0.24397755002743038, 'c': 0.7319326500822911}, {'k': 1.9838588234036885, 'y': 0.9714151497631341, 'i': 0.24285378744078354, 'c': 0.7285613623223506}, {'k': 1.9917301782403734, 'y': 0.9668091296635755, 'i': 0.24170228241589387, 'c': 0.7251068472476816}, {'k': 1.9988205877339482, 'y': 0.962107686595017, 'i': 0.24052692164875425, 'c': 0.7215807649462628}, {'k': 2.0052067104974816, 'y': 0.9573246319593053, 'i': 0.23933115798982632, 'c': 0.7179934739694789}, {'k': 2.010957840325535, 'y': 0.9524722398079692, 'i': 0.2381180599519923, 'c': 0.7143541798559769}, {'k': 2.0161365820960087, 'y': 0.9475614209792992, 'i': 0.2368903552448248, 'c': 0.7106710657344744}, {'k': 2.02079947207548, 'y': 0.942601876482189, 'i': 0.23565046912054724, 'c': 0.7069514073616417}, {'k': 2.0249975458219036, 'y': 0.9376022328052934, 'i': 0.23440055820132336, 'c': 0.7032016746039701}, {'k': 2.028776857027831, 'y': 0.9325701614446732, 'i': 0.2331425403611683, 'c': 0.6994276210835049}, {'k': 2.0321789506877956, 'y': 0.9275124846205921, 'i': 0.23187812115514803, 'c': 0.695634363465444}, {'k': 2.0352412939352407, 'y': 0.9224352688828894, 'i': 0.23060881722072235, 'c': 0.691826451662167}, {'k': 2.037997667800325, 'y': 0.917343908075182, 'i': 0.2293359770187955, 'c': 0.6880079310563865}, {'k': 2.040478523007673, 'y': 0.9122431969336331, 'i': 0.22806079923340827, 'c': 0.6841823977002248}, {'k': 2.0427113027760604, 'y': 0.9071373964302899, 'i': 0.22678434910757247, 'c': 0.6803530473227174}, {'k': 2.044720735410146, 'y': 0.9020302918291798, 'i': 0.22550757295729495, 'c': 0.676522718871885}, {'k': 2.046529099295261, 'y': 0.8969252443016178, 'i': 0.22423131107540445, 'c': 0.6726939332262134}, {'k': 2.048156462725482, 'y': 0.8918252368422911, 'i': 0.22295630921057277, 'c': 0.6688689276317183}, {'k': 2.04962090081677, 'y': 0.8867329151370472, 'i': 0.2216832287842618, 'c': 0.6650496863527854}, {'k': 2.050938691583741, 'y': 0.881650623954752, 'i': 0.220412655988688, 'c': 0.661237967966064}, {'k': 2.0521244930925753, 'y': 0.8765804395673115, 'i': 0.21914510989182787, 'c': 0.6574353296754836}, {'k': 2.053191503444958, 'y': 0.871524198642465, 'i': 0.21788104966061625, 'c': 0.6536431489818487}, {'k': 2.054151605199521, 'y': 0.8664835240020152, 'i': 0.2166208810005038, 'c': 0.6498626430015114}, {'k': 2.055015495698392, 'y': 0.8614598475926938, 'i': 0.21536496189817345, 'c': 0.6460948856945203}, {'k': 2.055792804637243, 'y': 0.8564544309770148, 'i': 0.2141136077442537, 'c': 0.6423408232327611}, {'k': 2.056492200097453, 'y': 0.851468383616436, 'i': 0.212867095904109, 'c': 0.6386012877123269}, {'k': 2.057121484148537, 'y': 0.8465026791883543, 'i': 0.21162566979708858, 'c': 0.6348770093912657}, {'k': 2.0576876790272562, 'y': 0.8415581701513047, 'i': 0.21038954253782619, 'c': 0.6311686276134786}, {'k': 2.0581971048065464, 'y': 0.8366356007487799, 'i': 0.20915890018719496, 'c': 0.6274767005615849}, {'k': 2.058655449381964, 'y': 0.8317356186209137, 'i': 0.20793390465522843, 'c': 0.6238017139656853}, {'k': 2.059067831525327, 'y': 0.826858785174565, 'i': 0.20671469629364125, 'c': 0.6201440888809239}, {'k': 2.059438857684046, 'y': 0.8220055848457357, 'i': 0.20550139621143393, 'c': 0.6165041886343019}]\n",
      "2nd period: {'k': 1.5537185740188595, 'y': 1.0046256863113534, 'i': 0.25115642157783835, 'c': 0.753469264733515}\n"
     ]
    }
   ],
   "source": [
    "# Method 8\n",
    "economy.seq_per_worker_var(k0 = 1.5, A0 = 1.5, L0 = 100, t = 50)"
   ]
  }
 ],
 "metadata": {
  "kernelspec": {
   "display_name": "Python 3 (ipykernel)",
   "language": "python",
   "name": "python3"
  },
  "language_info": {
   "codemirror_mode": {
    "name": "ipython",
    "version": 3
   },
   "file_extension": ".py",
   "mimetype": "text/x-python",
   "name": "python",
   "nbconvert_exporter": "python",
   "pygments_lexer": "ipython3",
   "version": "3.9.13"
  }
 },
 "nbformat": 4,
 "nbformat_minor": 5
}
